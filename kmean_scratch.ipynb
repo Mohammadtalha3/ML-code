{
 "cells": [
  {
   "cell_type": "code",
   "execution_count": 12,
   "metadata": {
    "pycharm": {
     "name": "#%%\n"
    }
   },
   "outputs": [
    {
     "name": "stdout",
     "output_type": "stream",
     "text": [
      "array of testing feature matrix: shape (10000, 784)\n",
      "array of testing label matrix: shape (10000,)\n"
     ]
    }
   ],
   "source": [
    "import numpy as np\n",
    "test = np.loadtxt(\"test.txt\", delimiter=',')\n",
    "test_features = test[:, 1:]\n",
    "test_labels = test[:, 0]\n",
    "print('array of testing feature matrix: shape ' + str(np.shape(test_features)))\n",
    "print('array of testing label matrix: shape ' + str(np.shape(test_labels)))"
   ]
  },
  {
   "cell_type": "code",
   "execution_count": 13,
   "metadata": {
    "pycharm": {
     "name": "#%%\n"
    }
   },
   "outputs": [
    {
     "data": {
      "text/plain": [
       "7840000"
      ]
     },
     "execution_count": 13,
     "metadata": {},
     "output_type": "execute_result"
    }
   ],
   "source": [
    "test_features.size"
   ]
  },
  {
   "cell_type": "code",
   "execution_count": 14,
   "metadata": {
    "pycharm": {
     "name": "#%%\n"
    }
   },
   "outputs": [
    {
     "data": {
      "text/plain": [
       "(10000, 784)"
      ]
     },
     "execution_count": 14,
     "metadata": {},
     "output_type": "execute_result"
    }
   ],
   "source": [
    "test_features.shape"
   ]
  },
  {
   "cell_type": "code",
   "execution_count": 15,
   "metadata": {
    "pycharm": {
     "name": "#%%\n"
    }
   },
   "outputs": [
    {
     "data": {
      "text/plain": [
       "2"
      ]
     },
     "execution_count": 15,
     "metadata": {},
     "output_type": "execute_result"
    }
   ],
   "source": [
    "test_features.ndim"
   ]
  },
  {
   "cell_type": "code",
   "execution_count": 16,
   "metadata": {
    "pycharm": {
     "name": "#%%\n"
    }
   },
   "outputs": [],
   "source": [
    "#test_features.reshape((test_features,1))"
   ]
  },
  {
   "cell_type": "code",
   "execution_count": 17,
   "metadata": {
    "pycharm": {
     "name": "#%%\n"
    }
   },
   "outputs": [
    {
     "data": {
      "text/plain": [
       "(7840000,)"
      ]
     },
     "execution_count": 17,
     "metadata": {},
     "output_type": "execute_result"
    }
   ],
   "source": [
    "flattened_features = test_features.flatten()\n",
    "flattened_features\n",
    "rl = flattened_features.ravel()\n",
    "rl.shape"
   ]
  },
  {
   "cell_type": "code",
   "execution_count": 18,
   "metadata": {
    "pycharm": {
     "name": "#%%\n"
    }
   },
   "outputs": [
    {
     "data": {
      "text/plain": [
       "(7840000,)"
      ]
     },
     "execution_count": 18,
     "metadata": {},
     "output_type": "execute_result"
    }
   ],
   "source": [
    "flattened_features.shape"
   ]
  },
  {
   "cell_type": "code",
   "execution_count": 19,
   "metadata": {
    "pycharm": {
     "name": "#%%\n"
    }
   },
   "outputs": [
    {
     "data": {
      "text/plain": [
       "1"
      ]
     },
     "execution_count": 19,
     "metadata": {},
     "output_type": "execute_result"
    }
   ],
   "source": [
    "flattened_features.ndim"
   ]
  },
  {
   "cell_type": "code",
   "execution_count": 20,
   "metadata": {
    "pycharm": {
     "name": "#%%\n"
    }
   },
   "outputs": [
    {
     "data": {
      "text/plain": [
       "numpy.ndarray"
      ]
     },
     "execution_count": 20,
     "metadata": {},
     "output_type": "execute_result"
    }
   ],
   "source": [
    "type(flattened_features)"
   ]
  },
  {
   "cell_type": "code",
   "execution_count": 21,
   "metadata": {
    "pycharm": {
     "name": "#%%\n"
    }
   },
   "outputs": [
    {
     "data": {
      "text/plain": [
       "dtype('float64')"
      ]
     },
     "execution_count": 21,
     "metadata": {},
     "output_type": "execute_result"
    }
   ],
   "source": [
    "\n",
    "flattened_features.dtype"
   ]
  },
  {
   "cell_type": "code",
   "execution_count": 37,
   "metadata": {
    "pycharm": {
     "name": "#%%\n"
    }
   },
   "outputs": [],
   "source": [
    "import plotly.express as px\n",
    "import matplotlib.pyplot as plt\n",
    "from sklearn.metrics import mean_squared_error\n",
    "\n",
    "class KMeansClustering:\n",
    "    def __init__(self, X, num_clusters):\n",
    "        self.K = num_clusters # cluster number\n",
    "        self.max_iterations = 100 # max iteration. don't want to run inf time\n",
    "        self.num_examples, self.num_features = X.shape # num of examples, num of features\n",
    "        self.plot_figure = True # plot figure\n",
    "\n",
    "    # randomly initialize centroids\n",
    "    def initialize_random_centroids(self, X):\n",
    "        centroids = np.zeros((self.K, self.num_features)) # row , column full with zero\n",
    "        for k in range(self.K): # iterations of\n",
    "            centroid = X[np.random.choice(range(self.num_examples))] # random centroids\n",
    "            centroids[k] = centroid\n",
    "        return centroids # return random centroids\n",
    "\n",
    "    # create cluster Function\n",
    "    def create_cluster(self, X, centroids):\n",
    "        clusters = [[] for _ in range(self.K)]\n",
    "        for point_idx, point in enumerate(X):\n",
    "            closest_centroid = np.argmin(\n",
    "                np.sqrt(np.sum((point-centroids)**2, axis=1))\n",
    "            ) # closest centroid using eucledian distance equation(calculate distance of every point from centroid)\n",
    "            clusters[closest_centroid].append(point_idx)\n",
    "        #print(\"cluster line 27:\",clusters)\n",
    "        return clusters\n",
    "\n",
    "    # new centroids\n",
    "    def calculate_new_centroids(self, cluster, X):\n",
    "        centroids = np.zeros((self.K, self.num_features)) # row , column full with zero\n",
    "        for idx, cluster in enumerate(cluster):\n",
    "            new_centroid = np.mean(X[cluster], axis=0) # find the value for new centroids\n",
    "            centroids[idx] = new_centroid\n",
    "            #print(centroids[idx])\n",
    "        return centroids\n",
    "\n",
    "    # prediction\n",
    "    def predict_cluster(self, clusters, X):\n",
    "        z_pred = np.zeros(self.num_examples) # row1 fillup with zero\n",
    "        for cluster_idx, cluster in enumerate(clusters):\n",
    "            for sample_idx in cluster:\n",
    "                z_pred[sample_idx] = cluster_idx\n",
    "        return z_pred\n",
    "\n",
    "    # plotinng scatter plot\n",
    "    def plot_fig(self, X, y):\n",
    "        fig = px.scatter(X[:, 0], z_pred , color=y)\n",
    "        fig.show() # visualize\n",
    "\n",
    "    # fit data\n",
    "    def fit(self, X):\n",
    "        centroids = self.initialize_random_centroids(X) # initialize random centroids\n",
    "        for _ in range(self.max_iterations):\n",
    "            clusters = self.create_cluster(X, centroids) # create cluster\n",
    "            previous_centroids = centroids\n",
    "            centroids = self.calculate_new_centroids(clusters, X) # calculate new centroids\n",
    "            #print(\"centroids line 59\",centroids)\n",
    "            diff = centroids - previous_centroids # calculate difference\n",
    "            #print(\"centroids difference:\",diff)\n",
    "\n",
    "\n",
    "\n",
    "\n",
    "\n",
    "            if not diff.any():\n",
    "                break\n",
    "        z_pred = self.predict_cluster(clusters, X) # predict function\n",
    "        if self.plot_figure: # if true\n",
    "            self.plot_fig(X, z_pred) # plot function\n",
    "        print(\"Mean Squared Error\",mean_squared_error(test_labels, y_pred).sum())\n",
    "        #mse2 = np.power(test_labels,y_pred,2).mean()\n",
    "        #mse= (np.mean(X[:,0],y_pred))**2\n",
    "        #print(\"mean Squared error manually:\",mse)\n",
    "        return z_pred\n",
    "\n",
    "if __name__ == \"__main__\":\n",
    "\n",
    "    np.random.seed(10)\n",
    "    num_clusters = 10 # num of cluster\n",
    "    X = test # create dataset using make_blobs from sklearn datasets\n",
    "    Kmeans = KMeansClustering(X, num_clusters)\n",
    "    z_pred=Kmeans.fit(X)\n",
    "\n",
    "\n"
   ]
  },
  {
   "cell_type": "code",
   "execution_count": 40,
   "metadata": {
    "pycharm": {
     "name": "#%%\n"
    }
   },
   "outputs": [],
   "source": [
    "import pandas as pd\n",
    "def get_kmeans_pp_centroids(X,k = 10):\n",
    "    centroids = KMeansClustering.fit('',X)\n",
    "\n",
    "    print(centroids)\n",
    "    i = 1\n",
    "    dist = []\n",
    "    while i != k:\n",
    "        max_dist = [0,0]\n",
    "        #go through the centroids\n",
    "        for index, row in centroids:\n",
    "            #calculate distance of every centroid with every other data point\n",
    "            d = np.sqrt((X[:,0] - row[:,:1])**2 +(X[:,0] - row[:,:1])**2)\n",
    "            #check which centroid has a max distance with another point\n",
    "            if max(d) > max(max_dist):\n",
    "                max_dist = d\n",
    "\n",
    "        X = pd.concat([X, max_dist], axis = 1)\n",
    "        idx = X.iloc[:,i+1].idxmax()\n",
    "        max_coor = pd.DataFrame(X.iloc[idx][[\"Height\", \"Weight\"]]).T\n",
    "        centroids = pd.concat([centroids,max_coor])\n",
    "        X = X.drop(idx)\n",
    "        i+=1\n",
    "    return centroids\n"
   ]
  },
  {
   "cell_type": "code",
   "execution_count": 39,
   "metadata": {
    "pycharm": {
     "name": "#%%\n"
    }
   },
   "outputs": [
    {
     "ename": "AttributeError",
     "evalue": "'str' object has no attribute 'initialize_random_centroids'",
     "output_type": "error",
     "traceback": [
      "\u001b[1;31m---------------------------------------------------------------------------\u001b[0m",
      "\u001b[1;31mAttributeError\u001b[0m                            Traceback (most recent call last)",
      "Input \u001b[1;32mIn [39]\u001b[0m, in \u001b[0;36m<cell line: 1>\u001b[1;34m()\u001b[0m\n\u001b[1;32m----> 1\u001b[0m centroids \u001b[38;5;241m=\u001b[39m \u001b[43mget_kmeans_pp_centroids\u001b[49m\u001b[43m(\u001b[49m\u001b[43mX\u001b[49m\u001b[43m,\u001b[49m\u001b[43m \u001b[49m\u001b[43mk\u001b[49m\u001b[43m \u001b[49m\u001b[38;5;241;43m=\u001b[39;49m\u001b[43m \u001b[49m\u001b[38;5;241;43m4\u001b[39;49m\u001b[43m)\u001b[49m\n\u001b[0;32m      2\u001b[0m clustered, cent \u001b[38;5;241m=\u001b[39m KMeansClustering(X,centroids, n\u001b[38;5;241m=\u001b[39m \u001b[38;5;241m4\u001b[39m)\n",
      "Input \u001b[1;32mIn [38]\u001b[0m, in \u001b[0;36mget_kmeans_pp_centroids\u001b[1;34m(X, k)\u001b[0m\n\u001b[0;32m      2\u001b[0m \u001b[38;5;28;01mdef\u001b[39;00m \u001b[38;5;21mget_kmeans_pp_centroids\u001b[39m(X,k \u001b[38;5;241m=\u001b[39m \u001b[38;5;241m10\u001b[39m):\n\u001b[1;32m----> 3\u001b[0m     centroids \u001b[38;5;241m=\u001b[39m \u001b[43mKMeansClustering\u001b[49m\u001b[38;5;241;43m.\u001b[39;49m\u001b[43mfit\u001b[49m\u001b[43m(\u001b[49m\u001b[38;5;124;43m'\u001b[39;49m\u001b[38;5;124;43m'\u001b[39;49m\u001b[43m,\u001b[49m\u001b[43mX\u001b[49m\u001b[43m)\u001b[49m\n\u001b[0;32m      5\u001b[0m     \u001b[38;5;28mprint\u001b[39m(centroids)\n\u001b[0;32m      6\u001b[0m     i \u001b[38;5;241m=\u001b[39m \u001b[38;5;241m1\u001b[39m\n",
      "Input \u001b[1;32mIn [37]\u001b[0m, in \u001b[0;36mKMeansClustering.fit\u001b[1;34m(self, X)\u001b[0m\n\u001b[0;32m     54\u001b[0m \u001b[38;5;28;01mdef\u001b[39;00m \u001b[38;5;21mfit\u001b[39m(\u001b[38;5;28mself\u001b[39m, X):\n\u001b[1;32m---> 55\u001b[0m     centroids \u001b[38;5;241m=\u001b[39m \u001b[38;5;28;43mself\u001b[39;49m\u001b[38;5;241;43m.\u001b[39;49m\u001b[43minitialize_random_centroids\u001b[49m(X) \u001b[38;5;66;03m# initialize random centroids\u001b[39;00m\n\u001b[0;32m     56\u001b[0m     \u001b[38;5;28;01mfor\u001b[39;00m _ \u001b[38;5;129;01min\u001b[39;00m \u001b[38;5;28mrange\u001b[39m(\u001b[38;5;28mself\u001b[39m\u001b[38;5;241m.\u001b[39mmax_iterations):\n\u001b[0;32m     57\u001b[0m         clusters \u001b[38;5;241m=\u001b[39m \u001b[38;5;28mself\u001b[39m\u001b[38;5;241m.\u001b[39mcreate_cluster(X, centroids) \u001b[38;5;66;03m# create cluster\u001b[39;00m\n",
      "\u001b[1;31mAttributeError\u001b[0m: 'str' object has no attribute 'initialize_random_centroids'"
     ]
    }
   ],
   "source": [
    "centroids = get_kmeans_pp_centroids(X, k = 4)\n",
    "clustered, cent = KMeansClustering(X,centroids, n= 4)"
   ]
  },
  {
   "cell_type": "code",
   "execution_count": null,
   "metadata": {
    "pycharm": {
     "name": "#%%\n"
    }
   },
   "outputs": [],
   "source": []
  }
 ],
 "metadata": {
  "kernelspec": {
   "display_name": "Python 3 (ipykernel)",
   "language": "python",
   "name": "python3"
  },
  "language_info": {
   "codemirror_mode": {
    "name": "ipython",
    "version": 3
   },
   "file_extension": ".py",
   "mimetype": "text/x-python",
   "name": "python",
   "nbconvert_exporter": "python",
   "pygments_lexer": "ipython3",
   "version": "3.9.12"
  }
 },
 "nbformat": 4,
 "nbformat_minor": 1
}
