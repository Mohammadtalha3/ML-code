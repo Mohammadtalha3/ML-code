{
 "cells": [
  {
   "cell_type": "code",
   "execution_count": 31,
   "id": "b8249303",
   "metadata": {},
   "outputs": [
    {
     "name": "stdout",
     "output_type": "stream",
     "text": [
      "Sales Report\n",
      "\n",
      "         Day  ProductA  ProductB  ProductC  ProductE  ProductF  Total Sales  \\\n",
      "0     Monday        27        56        32        21        44          180   \n",
      "1    Tuesday        13        51        22        40        32          158   \n",
      "2  Wednesday        34        41        19        17        25          136   \n",
      "3   Thursday        22        55        37        26        25          165   \n",
      "4     Friday        27        49        32        31        44          183   \n",
      "5   Saturday        13        56        54        33        40          196   \n",
      "6     Sunday        21        44        31        29        38          163   \n",
      "\n",
      "  Min Sales Max Sales  \n",
      "0  ProductE  ProductB  \n",
      "1  ProductA  ProductB  \n",
      "2  ProductE  ProductB  \n",
      "3  ProductA  ProductB  \n",
      "4  ProductA  ProductB  \n",
      "5  ProductA  ProductB  \n",
      "6  ProductA  ProductB  \n",
      "\n",
      "Products Statistics\n",
      "\n",
      "          Min Sales  Max sales  Avg. Sales  Total sales\n",
      "ProductA         13         34       22.43          157\n",
      "ProductB         41         56       50.29          352\n",
      "ProductC         19         54       32.43          227\n",
      "ProductE         17         40       28.14          197\n",
      "ProductF         25         44       35.43          248\n"
     ]
    }
   ],
   "source": [
    "import pandas\n",
    "\n",
    "sales_df = pandas.read_csv('dat_ex4.csv')\n",
    "\n",
    "col = sales_df.columns\n",
    "\n",
    "sales_df['Total Sales'] = sales_df[col[1:]].sum(axis = 1)\n",
    "\n",
    "sales_df['Min Sales'] = sales_df[col[1:]].idxmin(axis = 1)\n",
    "\n",
    "sales_df['Max Sales'] = sales_df[col[1:]].idxmax(axis = 1)\n",
    "\n",
    "print('Sales Report\\n')\n",
    "\n",
    "print(sales_df)\n",
    "\n",
    "\n",
    "\n",
    "dat = sales_df[col[1:]].transpose()\n",
    "\n",
    "data = {}\n",
    "\n",
    "data['Min Sales'] = dat.min(axis = 1)\n",
    "\n",
    "data['Max sales'] = dat.max(axis = 1)\n",
    "\n",
    "data['Avg. Sales'] = dat.mean(axis = 1).round(2)\n",
    "\n",
    "data['Total sales'] = dat.sum(axis = 1)\n",
    "\n",
    "print('\\nProducts Statistics\\n')\n",
    "\n",
    "prod_df = pandas.DataFrame(data)\n",
    "\n",
    "print(prod_df)"
   ]
  }
 ],
 "metadata": {
  "kernelspec": {
   "display_name": "Python 3 (ipykernel)",
   "language": "python",
   "name": "python3"
  },
  "language_info": {
   "codemirror_mode": {
    "name": "ipython",
    "version": 3
   },
   "file_extension": ".py",
   "mimetype": "text/x-python",
   "name": "python",
   "nbconvert_exporter": "python",
   "pygments_lexer": "ipython3",
   "version": "3.9.12"
  }
 },
 "nbformat": 4,
 "nbformat_minor": 5
}
