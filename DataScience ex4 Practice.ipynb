{
 "cells": [
  {
   "cell_type": "code",
   "execution_count": 176,
   "id": "2be86d5e",
   "metadata": {
    "scrolled": true
   },
   "outputs": [
    {
     "name": "stdout",
     "output_type": "stream",
     "text": [
      "Sales Report\n",
      "\n",
      "         Day  ProductA  ProductB  ProductC  ProductE  ProductF  Total Sales  \\\n",
      "0     Monday        27        56        32        21        44          180   \n",
      "1    Tuesday        13        51        22        40        32          158   \n",
      "2  Wednesday        34        41        19        17        25          136   \n",
      "3   Thursday        22        55        37        26        25          165   \n",
      "4     Friday        27        49        32        31        44          183   \n",
      "5   Saturday        13        56        54        33        40          196   \n",
      "6     Sunday        21        44        31        29        38          163   \n",
      "\n",
      "   Min Sales  Max Sales  \n",
      "0         21         56  \n",
      "1         13         51  \n",
      "2         17         41  \n",
      "3         22         55  \n",
      "4         27         49  \n",
      "5         13         56  \n",
      "6         21         44   end\n",
      "\n",
      "Statictic Data\n",
      "\n"
     ]
    },
    {
     "data": {
      "text/html": [
       "<div>\n",
       "<style scoped>\n",
       "    .dataframe tbody tr th:only-of-type {\n",
       "        vertical-align: middle;\n",
       "    }\n",
       "\n",
       "    .dataframe tbody tr th {\n",
       "        vertical-align: top;\n",
       "    }\n",
       "\n",
       "    .dataframe thead th {\n",
       "        text-align: right;\n",
       "    }\n",
       "</style>\n",
       "<table border=\"1\" class=\"dataframe\">\n",
       "  <thead>\n",
       "    <tr style=\"text-align: right;\">\n",
       "      <th></th>\n",
       "      <th>Min Sales</th>\n",
       "      <th>Max Sales</th>\n",
       "      <th>Avg. Sales</th>\n",
       "      <th>total Sales</th>\n",
       "    </tr>\n",
       "  </thead>\n",
       "  <tbody>\n",
       "    <tr>\n",
       "      <th>ProductA</th>\n",
       "      <td>13</td>\n",
       "      <td>34</td>\n",
       "      <td>22.43</td>\n",
       "      <td>157</td>\n",
       "    </tr>\n",
       "    <tr>\n",
       "      <th>ProductB</th>\n",
       "      <td>41</td>\n",
       "      <td>56</td>\n",
       "      <td>50.29</td>\n",
       "      <td>352</td>\n",
       "    </tr>\n",
       "    <tr>\n",
       "      <th>ProductC</th>\n",
       "      <td>19</td>\n",
       "      <td>54</td>\n",
       "      <td>32.43</td>\n",
       "      <td>227</td>\n",
       "    </tr>\n",
       "    <tr>\n",
       "      <th>ProductE</th>\n",
       "      <td>17</td>\n",
       "      <td>40</td>\n",
       "      <td>28.14</td>\n",
       "      <td>197</td>\n",
       "    </tr>\n",
       "    <tr>\n",
       "      <th>ProductF</th>\n",
       "      <td>25</td>\n",
       "      <td>44</td>\n",
       "      <td>35.43</td>\n",
       "      <td>248</td>\n",
       "    </tr>\n",
       "  </tbody>\n",
       "</table>\n",
       "</div>"
      ],
      "text/plain": [
       "          Min Sales  Max Sales  Avg. Sales  total Sales\n",
       "ProductA         13         34       22.43          157\n",
       "ProductB         41         56       50.29          352\n",
       "ProductC         19         54       32.43          227\n",
       "ProductE         17         40       28.14          197\n",
       "ProductF         25         44       35.43          248"
      ]
     },
     "execution_count": 176,
     "metadata": {},
     "output_type": "execute_result"
    }
   ],
   "source": [
    "import pandas\n",
    "sales_df=pandas.read_csv('dat_ex4.csv')\n",
    "sales_df.columns\n",
    "sales_df['Total Sales']=sales_df[col[1:]].sum(axis=1)\n",
    "sales_df['Min Sales']=sales_df[col[1:]].min(axis=1)\n",
    "sales_df['Max Sales']=sales_df[col[1:]].max(axis =1)\n",
    "print( 'Sales Report\\n')\n",
    "print(sales_df,'end')\n",
    "\n",
    "dat = sales_df[col[1:]].transpose()\n",
    "data={}\n",
    "data['Min Sales']= dat.min(axis=1)\n",
    "data['Max Sales']= dat.max(axis =1)\n",
    "data['Avg. Sales']= dat.mean(axis=1).round(2)\n",
    "data['total Sales']= dat.sum(axis=1)\n",
    "print('\\nStatictic Data\\n')\n",
    "prod_df= pandas.DataFrame(data)\n",
    "prod_df\n",
    "\n",
    "\n"
   ]
  }
 ],
 "metadata": {
  "kernelspec": {
   "display_name": "Python 3 (ipykernel)",
   "language": "python",
   "name": "python3"
  },
  "language_info": {
   "codemirror_mode": {
    "name": "ipython",
    "version": 3
   },
   "file_extension": ".py",
   "mimetype": "text/x-python",
   "name": "python",
   "nbconvert_exporter": "python",
   "pygments_lexer": "ipython3",
   "version": "3.9.12"
  }
 },
 "nbformat": 4,
 "nbformat_minor": 5
}
