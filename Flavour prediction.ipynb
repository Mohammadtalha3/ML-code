{
 "cells": [
  {
   "cell_type": "code",
   "execution_count": 4,
   "id": "842514ca",
   "metadata": {},
   "outputs": [],
   "source": [
    "import pandas\n",
    "dt=pandas.read_csv('flavour.csv')\n",
    "\n"
   ]
  },
  {
   "cell_type": "code",
   "execution_count": 5,
   "id": "d5647392",
   "metadata": {},
   "outputs": [
    {
     "data": {
      "text/plain": [
       "LabelEncoder()"
      ]
     },
     "execution_count": 5,
     "metadata": {},
     "output_type": "execute_result"
    }
   ],
   "source": [
    "from sklearn.preprocessing import LabelEncoder\n",
    "Enc=LabelEncoder()\n",
    "Enc.fit(['Male','Female'])"
   ]
  },
  {
   "cell_type": "code",
   "execution_count": 6,
   "id": "7b875273",
   "metadata": {},
   "outputs": [],
   "source": [
    "dt['Gender'] = Enc.transform(dt['Gender'])\n"
   ]
  },
  {
   "cell_type": "code",
   "execution_count": 7,
   "id": "5a368c1f",
   "metadata": {},
   "outputs": [],
   "source": [
    "x=dt.drop(columns=['Flavour'])\n",
    "y=dt.drop(columns=['Age','Gender'])\n"
   ]
  },
  {
   "cell_type": "code",
   "execution_count": 8,
   "id": "ed5f37fe",
   "metadata": {},
   "outputs": [
    {
     "data": {
      "text/plain": [
       "DecisionTreeClassifier()"
      ]
     },
     "execution_count": 8,
     "metadata": {},
     "output_type": "execute_result"
    }
   ],
   "source": [
    "from sklearn.tree import DecisionTreeClassifier\n",
    "cls=DecisionTreeClassifier()\n",
    "cls.fit(x,y)"
   ]
  },
  {
   "cell_type": "code",
   "execution_count": null,
   "id": "2a20c72c",
   "metadata": {},
   "outputs": [],
   "source": [
    "age=18\n",
    "gender= Enc.transform(['Male'])\n",
    "cls.predict([[age,gender]])\n"
   ]
  },
  {
   "cell_type": "code",
   "execution_count": 12,
   "id": "3c3550ac",
   "metadata": {},
   "outputs": [],
   "source": [
    "def flav_pred():\n",
    "    age=int(input('Age: '))\n",
    "    gen=input('Gender: ').capitalize()\n",
    "    gender=Enc.transform([gen])\n",
    "    flav=cls.predict([[age , gender]])\n",
    "    print('Recommended Falvour:', flav[0])\n",
    "\n",
    "\n"
   ]
  },
  {
   "cell_type": "code",
   "execution_count": null,
   "id": "48735436",
   "metadata": {},
   "outputs": [],
   "source": [
    "flav_pred()"
   ]
  }
 ],
 "metadata": {
  "kernelspec": {
   "display_name": "Python 3 (ipykernel)",
   "language": "python",
   "name": "python3"
  },
  "language_info": {
   "codemirror_mode": {
    "name": "ipython",
    "version": 3
   },
   "file_extension": ".py",
   "mimetype": "text/x-python",
   "name": "python",
   "nbconvert_exporter": "python",
   "pygments_lexer": "ipython3",
   "version": "3.9.12"
  }
 },
 "nbformat": 4,
 "nbformat_minor": 5
}
