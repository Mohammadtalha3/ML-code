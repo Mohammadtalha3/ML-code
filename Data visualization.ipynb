{
 "cells": [
  {
   "cell_type": "code",
   "execution_count": 58,
   "id": "a334405d",
   "metadata": {},
   "outputs": [
    {
     "data": {
      "text/html": [
       "<div>\n",
       "<style scoped>\n",
       "    .dataframe tbody tr th:only-of-type {\n",
       "        vertical-align: middle;\n",
       "    }\n",
       "\n",
       "    .dataframe tbody tr th {\n",
       "        vertical-align: top;\n",
       "    }\n",
       "\n",
       "    .dataframe thead th {\n",
       "        text-align: right;\n",
       "    }\n",
       "</style>\n",
       "<table border=\"1\" class=\"dataframe\">\n",
       "  <thead>\n",
       "    <tr style=\"text-align: right;\">\n",
       "      <th></th>\n",
       "      <th>id</th>\n",
       "      <th>name</th>\n",
       "      <th>price</th>\n",
       "      <th>sales</th>\n",
       "      <th>brand</th>\n",
       "    </tr>\n",
       "  </thead>\n",
       "  <tbody>\n",
       "    <tr>\n",
       "      <th>0</th>\n",
       "      <td>101</td>\n",
       "      <td>biscuits</td>\n",
       "      <td>5.00</td>\n",
       "      <td>227.0</td>\n",
       "      <td>HomeFoods</td>\n",
       "    </tr>\n",
       "    <tr>\n",
       "      <th>1</th>\n",
       "      <td>102</td>\n",
       "      <td>cookies</td>\n",
       "      <td>7.25</td>\n",
       "      <td>158.0</td>\n",
       "      <td>TBakery</td>\n",
       "    </tr>\n",
       "    <tr>\n",
       "      <th>2</th>\n",
       "      <td>103</td>\n",
       "      <td>cake</td>\n",
       "      <td>12.00</td>\n",
       "      <td>50.0</td>\n",
       "      <td>TBakery</td>\n",
       "    </tr>\n",
       "    <tr>\n",
       "      <th>3</th>\n",
       "      <td>104</td>\n",
       "      <td>whey_supplement</td>\n",
       "      <td>34.90</td>\n",
       "      <td>24.0</td>\n",
       "      <td>MusleUp</td>\n",
       "    </tr>\n",
       "    <tr>\n",
       "      <th>5</th>\n",
       "      <td>106</td>\n",
       "      <td>potato_chips</td>\n",
       "      <td>1.75</td>\n",
       "      <td>121.0</td>\n",
       "      <td>HomeFoods</td>\n",
       "    </tr>\n",
       "  </tbody>\n",
       "</table>\n",
       "</div>"
      ],
      "text/plain": [
       "    id             name  price  sales      brand\n",
       "0  101         biscuits   5.00  227.0  HomeFoods\n",
       "1  102          cookies   7.25  158.0    TBakery\n",
       "2  103             cake  12.00   50.0    TBakery\n",
       "3  104  whey_supplement  34.90   24.0    MusleUp\n",
       "5  106     potato_chips   1.75  121.0  HomeFoods"
      ]
     },
     "execution_count": 58,
     "metadata": {},
     "output_type": "execute_result"
    }
   ],
   "source": [
    "import pandas\n",
    "dt= pandas.read_csv('csv_data.csv')\n",
    "dt.dropna(inplace=True)\n",
    "#dt.fillna(0,inplace=True)\n",
    "dt\n",
    "\n",
    "\n"
   ]
  },
  {
   "cell_type": "code",
   "execution_count": 63,
   "id": "0cfb0875",
   "metadata": {},
   "outputs": [],
   "source": [
    "dt_analytics= pandas.DataFrame({'Actual sales':dt['sales'],\n",
    "                              'Total sales':[580,580,580,580,580],\n",
    "                               'Average sales':[116,116,116,116,116]})\n",
    "                               "
   ]
  },
  {
   "cell_type": "code",
   "execution_count": 53,
   "id": "f1da28c1",
   "metadata": {},
   "outputs": [],
   "source": [
    "#dt.drop(columns=['id'],inplace=True) # to drop some specified things"
   ]
  },
  {
   "cell_type": "code",
   "execution_count": 64,
   "id": "a44d9bd3",
   "metadata": {},
   "outputs": [
    {
     "data": {
      "text/plain": [
       "<AxesSubplot:>"
      ]
     },
     "execution_count": 64,
     "metadata": {},
     "output_type": "execute_result"
    },
    {
     "data": {
      "image/png": "[encoded data removed]",
      "text/plain": [
       "<Figure size 432x288 with 1 Axes>"
      ]
     },
     "metadata": {
      "needs_background": "light"
     },
     "output_type": "display_data"
    }
   ],
   "source": [
    "dt.plot.bar(stacked = True) #use to comapre alll data, satcked to ge the good view of sales and price\n",
    "\n",
    "#dt['sales'].plot.bar()\n",
    "\n"
   ]
  }
 ],
 "metadata": {
  "kernelspec": {
   "display_name": "Python 3 (ipykernel)",
   "language": "python",
   "name": "python3"
  },
  "language_info": {
   "codemirror_mode": {
    "name": "ipython",
    "version": 3
   },
   "file_extension": ".py",
   "mimetype": "text/x-python",
   "name": "python",
   "nbconvert_exporter": "python",
   "pygments_lexer": "ipython3",
   "version": "3.9.12"
  }
 },
 "nbformat": 4,
 "nbformat_minor": 5
}
