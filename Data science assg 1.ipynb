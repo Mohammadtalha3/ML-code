{
 "cells": [
  {
   "cell_type": "code",
   "execution_count": 42,
   "id": "8ef7252f",
   "metadata": {},
   "outputs": [
    {
     "data": {
      "text/html": [
       "<div>\n",
       "<style scoped>\n",
       "    .dataframe tbody tr th:only-of-type {\n",
       "        vertical-align: middle;\n",
       "    }\n",
       "\n",
       "    .dataframe tbody tr th {\n",
       "        vertical-align: top;\n",
       "    }\n",
       "\n",
       "    .dataframe thead th {\n",
       "        text-align: right;\n",
       "    }\n",
       "</style>\n",
       "<table border=\"1\" class=\"dataframe\">\n",
       "  <thead>\n",
       "    <tr style=\"text-align: right;\">\n",
       "      <th></th>\n",
       "      <th>Identifier</th>\n",
       "      <th>Login email</th>\n",
       "      <th>Names</th>\n",
       "    </tr>\n",
       "  </thead>\n",
       "  <tbody>\n",
       "    <tr>\n",
       "      <th>0</th>\n",
       "      <td>2070</td>\n",
       "      <td>laura@that.com</td>\n",
       "      <td>LauraGrey</td>\n",
       "    </tr>\n",
       "    <tr>\n",
       "      <th>1</th>\n",
       "      <td>4081</td>\n",
       "      <td>craig@this.com</td>\n",
       "      <td>CraigJohnson</td>\n",
       "    </tr>\n",
       "    <tr>\n",
       "      <th>2</th>\n",
       "      <td>9346</td>\n",
       "      <td>mary@which.com</td>\n",
       "      <td>MaryJenkins</td>\n",
       "    </tr>\n",
       "    <tr>\n",
       "      <th>3</th>\n",
       "      <td>5079</td>\n",
       "      <td>jamie@somethin.com</td>\n",
       "      <td>JamieSmith</td>\n",
       "    </tr>\n",
       "  </tbody>\n",
       "</table>\n",
       "</div>"
      ],
      "text/plain": [
       "   Identifier         Login email         Names\n",
       "0        2070      laura@that.com     LauraGrey\n",
       "1        4081      craig@this.com  CraigJohnson\n",
       "2        9346      mary@which.com   MaryJenkins\n",
       "3        5079  jamie@somethin.com    JamieSmith"
      ]
     },
     "execution_count": 42,
     "metadata": {},
     "output_type": "execute_result"
    }
   ],
   "source": [
    "import pandas\n",
    "dt=pandas.read_csv('email.csv')\n",
    "dt=dt[['Identifier','First name','Last name','Login email']]\n",
    "dt['Names']=dt['First name']+dt['Last name']\n",
    "dt.drop(columns=['First name','Last name'], inplace = True)\n",
    "\n",
    "dt\n"
   ]
  }
 ],
 "metadata": {
  "kernelspec": {
   "display_name": "Python 3 (ipykernel)",
   "language": "python",
   "name": "python3"
  },
  "language_info": {
   "codemirror_mode": {
    "name": "ipython",
    "version": 3
   },
   "file_extension": ".py",
   "mimetype": "text/x-python",
   "name": "python",
   "nbconvert_exporter": "python",
   "pygments_lexer": "ipython3",
   "version": "3.9.12"
  }
 },
 "nbformat": 4,
 "nbformat_minor": 5
}
