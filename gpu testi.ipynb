{
 "cells": [
  {
   "cell_type": "code",
   "execution_count": 11,
   "id": "64faa722",
   "metadata": {},
   "outputs": [],
   "source": [
    "import numpy as np\n",
    "import pandas as pd\n",
    "import tensorflow as tf\n",
    "from tensorflow import keras\n",
    "from matplotlib import pyplot as plt\n"
   ]
  },
  {
   "cell_type": "code",
   "execution_count": 3,
   "id": "6fddaa3b",
   "metadata": {},
   "outputs": [],
   "source": [
    "(x_train, y_train), (x_test, y_test) = keras.datasets.cifar10.load_data()"
   ]
  },
  {
   "cell_type": "code",
   "execution_count": 8,
   "id": "57fe6fa0",
   "metadata": {},
   "outputs": [
    {
     "data": {
      "text/plain": [
       "array([[6],\n",
       "       [9],\n",
       "       [9],\n",
       "       [4],\n",
       "       [1]], dtype=uint8)"
      ]
     },
     "execution_count": 8,
     "metadata": {},
     "output_type": "execute_result"
    }
   ],
   "source": [
    "y_train[:5]"
   ]
  },
  {
   "cell_type": "code",
   "execution_count": 16,
   "id": "200cd83e",
   "metadata": {},
   "outputs": [],
   "source": [
    "def plot_img(index):\n",
    "    plt.figure(figsize=(10,3))\n",
    "    plt.imshow(x_train[index])\n",
    "    "
   ]
  },
  {
   "cell_type": "code",
   "execution_count": 19,
   "id": "259a4e04",
   "metadata": {},
   "outputs": [
    {
     "data": {
      "image/png": "[encoded data removed]",
      "text/plain": [
       "<Figure size 720x216 with 1 Axes>"
      ]
     },
     "metadata": {
      "needs_background": "light"
     },
     "output_type": "display_data"
    }
   ],
   "source": [
    "plot_img(0)"
   ]
  },
  {
   "cell_type": "code",
   "execution_count": 22,
   "id": "7fb73149",
   "metadata": {},
   "outputs": [],
   "source": [
    "x_train_scaled= x_train/255\n",
    "x_test_scaled= x_test/255\n",
    "\n"
   ]
  },
  {
   "cell_type": "code",
   "execution_count": 25,
   "id": "c9db1479",
   "metadata": {},
   "outputs": [
    {
     "data": {
      "text/plain": [
       "array([[0., 0., 0., 0., 0., 0., 1., 0., 0., 0.],\n",
       "       [0., 0., 0., 0., 0., 0., 0., 0., 0., 1.],\n",
       "       [0., 0., 0., 0., 0., 0., 0., 0., 0., 1.],\n",
       "       [0., 0., 0., 0., 1., 0., 0., 0., 0., 0.],\n",
       "       [0., 1., 0., 0., 0., 0., 0., 0., 0., 0.]], dtype=float32)"
      ]
     },
     "execution_count": 25,
     "metadata": {},
     "output_type": "execute_result"
    }
   ],
   "source": [
    "y_train_categorical= keras.utils.to_categorical(\n",
    "    y_train, num_classes=10, dtype='float32',\n",
    ")\n",
    "y_train_categorical[:5]"
   ]
  },
  {
   "cell_type": "code",
   "execution_count": 38,
   "id": "b5387082",
   "metadata": {},
   "outputs": [
    {
     "data": {
      "text/plain": [
       "array([[0., 0., 0., 1., 0., 0., 0., 0., 0., 0.],\n",
       "       [0., 0., 0., 0., 0., 0., 0., 0., 1., 0.],\n",
       "       [0., 0., 0., 0., 0., 0., 0., 0., 1., 0.],\n",
       "       [1., 0., 0., 0., 0., 0., 0., 0., 0., 0.],\n",
       "       [0., 0., 0., 0., 0., 0., 1., 0., 0., 0.]], dtype=float32)"
      ]
     },
     "execution_count": 38,
     "metadata": {},
     "output_type": "execute_result"
    }
   ],
   "source": [
    "y_test_categorical= keras.utils.to_categorical(\n",
    "    y_test, num_classes=10, dtype='float32'\n",
    ")\n",
    "y_test_categorical[:5]"
   ]
  },
  {
   "cell_type": "code",
   "execution_count": 39,
   "id": "17fccfef",
   "metadata": {},
   "outputs": [
    {
     "data": {
      "text/plain": [
       "(50000, 32, 32, 3)"
      ]
     },
     "execution_count": 39,
     "metadata": {},
     "output_type": "execute_result"
    }
   ],
   "source": [
    "x_train.shape"
   ]
  },
  {
   "cell_type": "code",
   "execution_count": 40,
   "id": "e8ba2ddb",
   "metadata": {},
   "outputs": [],
   "source": [
    "model=keras.Sequential([\n",
    "    keras.layers.Flatten(input_shape=(32,32,3)),\n",
    "    keras.layers.Dense(3000, activation='relu'),\n",
    "    keras.layers.Dense(1000,activation='relu'),\n",
    "    keras.layers.Dense(10, activation='sigmoid')\n",
    "])\n",
    "model.compile(\n",
    "    optimizer='SGD',\n",
    "    loss='categorical_crossentropy',\n",
    "    metrics=['accuracy']\n",
    "\n",
    ")\n"
   ]
  },
  {
   "cell_type": "code",
   "execution_count": 43,
   "id": "d57af287",
   "metadata": {},
   "outputs": [
    {
     "name": "stdout",
     "output_type": "stream",
     "text": [
      "Epoch 1/500\n",
      "1563/1563 [==============================] - 142s 80ms/step - loss: 1.6239 - accuracy: 0.4270\n",
      "Epoch 2/500\n",
      "1563/1563 [==============================] - 113s 72ms/step - loss: 1.5412 - accuracy: 0.4575\n",
      "Epoch 3/500\n",
      "1563/1563 [==============================] - 112s 72ms/step - loss: 1.4808 - accuracy: 0.4783\n",
      "Epoch 4/500\n",
      "1563/1563 [==============================] - 110s 71ms/step - loss: 1.4329 - accuracy: 0.4940\n",
      "Epoch 5/500\n",
      "1563/1563 [==============================] - 111s 71ms/step - loss: 1.3904 - accuracy: 0.5154\n",
      "Epoch 6/500\n",
      "1563/1563 [==============================] - 111s 71ms/step - loss: 1.3509 - accuracy: 0.5257\n",
      "Epoch 7/500\n",
      "1563/1563 [==============================] - 111s 71ms/step - loss: 1.3178 - accuracy: 0.5373\n",
      "Epoch 8/500\n",
      "1563/1563 [==============================] - 111s 71ms/step - loss: 1.2832 - accuracy: 0.5522\n",
      "Epoch 9/500\n",
      "1563/1563 [==============================] - 111s 71ms/step - loss: 1.2522 - accuracy: 0.5613\n",
      "Epoch 10/500\n",
      "1563/1563 [==============================] - 112s 71ms/step - loss: 1.2244 - accuracy: 0.5694\n",
      "Epoch 11/500\n",
      "1563/1563 [==============================] - 110s 71ms/step - loss: 1.1954 - accuracy: 0.5829\n",
      "Epoch 12/500\n",
      "1563/1563 [==============================] - 111s 71ms/step - loss: 1.1697 - accuracy: 0.5919\n",
      "Epoch 13/500\n",
      "1563/1563 [==============================] - 111s 71ms/step - loss: 1.1411 - accuracy: 0.6007\n",
      "Epoch 14/500\n",
      "1563/1563 [==============================] - 110s 71ms/step - loss: 1.1137 - accuracy: 0.6106\n",
      "Epoch 15/500\n",
      "1563/1563 [==============================] - 111s 71ms/step - loss: 1.0878 - accuracy: 0.6203\n",
      "Epoch 16/500\n",
      "1563/1563 [==============================] - 110s 71ms/step - loss: 1.0600 - accuracy: 0.6302\n",
      "Epoch 17/500\n",
      "1563/1563 [==============================] - 112s 71ms/step - loss: 1.0349 - accuracy: 0.6396\n",
      "Epoch 18/500\n",
      "1563/1563 [==============================] - 111s 71ms/step - loss: 1.0080 - accuracy: 0.6507\n",
      "Epoch 19/500\n",
      "1563/1563 [==============================] - 110s 70ms/step - loss: 0.9847 - accuracy: 0.6591\n",
      "Epoch 20/500\n",
      "1563/1563 [==============================] - 105s 67ms/step - loss: 0.9590 - accuracy: 0.6688\n",
      "Epoch 21/500\n",
      "1563/1563 [==============================] - 104s 67ms/step - loss: 0.9303 - accuracy: 0.6773\n",
      "Epoch 22/500\n",
      "1563/1563 [==============================] - 105s 67ms/step - loss: 0.9066 - accuracy: 0.6865\n",
      "Epoch 23/500\n",
      "1563/1563 [==============================] - 104s 67ms/step - loss: 0.8820 - accuracy: 0.6954\n",
      "Epoch 24/500\n",
      "1563/1563 [==============================] - 104s 67ms/step - loss: 0.8567 - accuracy: 0.7059\n",
      "Epoch 25/500\n",
      "1563/1563 [==============================] - 105s 67ms/step - loss: 0.8307 - accuracy: 0.7142\n",
      "Epoch 26/500\n",
      "1563/1563 [==============================] - 111s 71ms/step - loss: 0.8053 - accuracy: 0.7243\n",
      "Epoch 27/500\n",
      "1563/1563 [==============================] - 112s 72ms/step - loss: 0.7762 - accuracy: 0.7355\n",
      "Epoch 28/500\n",
      "1563/1563 [==============================] - 120s 77ms/step - loss: 0.7565 - accuracy: 0.7415\n",
      "Epoch 29/500\n",
      "1563/1563 [==============================] - 123s 79ms/step - loss: 0.7288 - accuracy: 0.7510\n",
      "Epoch 30/500\n",
      "1563/1563 [==============================] - 123s 79ms/step - loss: 0.7041 - accuracy: 0.7606\n",
      "Epoch 31/500\n",
      "1563/1563 [==============================] - 104s 67ms/step - loss: 0.6788 - accuracy: 0.7696\n",
      "Epoch 32/500\n",
      "1563/1563 [==============================] - 105s 67ms/step - loss: 0.6553 - accuracy: 0.7785\n",
      "Epoch 33/500\n",
      "1563/1563 [==============================] - 107s 68ms/step - loss: 0.6288 - accuracy: 0.7888\n",
      "Epoch 34/500\n",
      "1563/1563 [==============================] - 109s 69ms/step - loss: 0.6079 - accuracy: 0.7962\n",
      "Epoch 35/500\n",
      "1563/1563 [==============================] - 107s 69ms/step - loss: 0.5838 - accuracy: 0.8039\n",
      "Epoch 36/500\n",
      "1563/1563 [==============================] - 3522s 2s/step - loss: 0.5575 - accuracy: 0.8147\n",
      "Epoch 37/500\n",
      "1563/1563 [==============================] - 95s 61ms/step - loss: 0.5374 - accuracy: 0.8239\n",
      "Epoch 38/500\n",
      "1563/1563 [==============================] - 114s 73ms/step - loss: 0.5164 - accuracy: 0.8284\n",
      "Epoch 39/500\n",
      "1563/1563 [==============================] - 116s 74ms/step - loss: 0.4922 - accuracy: 0.8398\n",
      "Epoch 40/500\n",
      "1563/1563 [==============================] - 116s 74ms/step - loss: 0.4665 - accuracy: 0.8494\n",
      "Epoch 41/500\n",
      "1563/1563 [==============================] - 115s 74ms/step - loss: 0.4456 - accuracy: 0.8576\n",
      "Epoch 42/500\n",
      "1563/1563 [==============================] - 115s 74ms/step - loss: 0.4253 - accuracy: 0.8637\n",
      "Epoch 43/500\n",
      "1563/1563 [==============================] - 113s 73ms/step - loss: 0.4050 - accuracy: 0.8714\n",
      "Epoch 44/500\n",
      "1563/1563 [==============================] - 114s 73ms/step - loss: 0.3863 - accuracy: 0.8787\n",
      "Epoch 45/500\n",
      "1563/1563 [==============================] - 115s 73ms/step - loss: 0.3659 - accuracy: 0.8841\n",
      "Epoch 46/500\n",
      "1563/1563 [==============================] - 115s 74ms/step - loss: 0.3476 - accuracy: 0.8921\n",
      "Epoch 47/500\n",
      "1563/1563 [==============================] - 114s 73ms/step - loss: 0.3301 - accuracy: 0.8976\n",
      "Epoch 48/500\n",
      "1563/1563 [==============================] - 114s 73ms/step - loss: 0.3111 - accuracy: 0.9059\n",
      "Epoch 49/500\n",
      "1563/1563 [==============================] - 113s 72ms/step - loss: 0.2939 - accuracy: 0.9108\n",
      "Epoch 50/500\n",
      "1563/1563 [==============================] - 109s 70ms/step - loss: 0.2784 - accuracy: 0.9168\n",
      "Epoch 51/500\n",
      "1563/1563 [==============================] - 109s 70ms/step - loss: 0.2611 - accuracy: 0.9236\n",
      "Epoch 52/500\n",
      "1563/1563 [==============================] - 108s 69ms/step - loss: 0.2471 - accuracy: 0.9294\n",
      "Epoch 53/500\n",
      "1563/1563 [==============================] - 108s 69ms/step - loss: 0.2315 - accuracy: 0.9341\n",
      "Epoch 54/500\n",
      "1563/1563 [==============================] - 106s 68ms/step - loss: 0.2191 - accuracy: 0.9383\n",
      "Epoch 55/500\n",
      "1563/1563 [==============================] - 107s 68ms/step - loss: 0.2056 - accuracy: 0.9426\n",
      "Epoch 56/500\n",
      "1563/1563 [==============================] - 107s 68ms/step - loss: 0.1934 - accuracy: 0.9474\n",
      "Epoch 57/500\n",
      "1563/1563 [==============================] - 107s 69ms/step - loss: 0.1807 - accuracy: 0.9521\n",
      "Epoch 58/500\n",
      "1563/1563 [==============================] - 107s 69ms/step - loss: 0.1689 - accuracy: 0.9558\n",
      "Epoch 59/500\n",
      "1563/1563 [==============================] - 107s 69ms/step - loss: 0.1568 - accuracy: 0.9596\n",
      "Epoch 60/500\n",
      "1563/1563 [==============================] - 109s 70ms/step - loss: 0.1494 - accuracy: 0.9612\n",
      "Epoch 61/500\n",
      "1563/1563 [==============================] - 171s 110ms/step - loss: 0.1327 - accuracy: 0.9685\n",
      "Epoch 62/500\n",
      "1563/1563 [==============================] - 93s 59ms/step - loss: 0.1262 - accuracy: 0.9694\n",
      "Epoch 63/500\n",
      "1563/1563 [==============================] - 113s 72ms/step - loss: 0.1160 - accuracy: 0.9728\n",
      "Epoch 64/500\n",
      "1563/1563 [==============================] - 112s 71ms/step - loss: 0.1085 - accuracy: 0.9762\n",
      "Epoch 65/500\n",
      "1563/1563 [==============================] - 112s 72ms/step - loss: 0.1036 - accuracy: 0.9776\n",
      "Epoch 66/500\n",
      "1563/1563 [==============================] - 112s 72ms/step - loss: 0.0941 - accuracy: 0.9804\n",
      "Epoch 67/500\n",
      "1563/1563 [==============================] - 112s 72ms/step - loss: 0.0867 - accuracy: 0.9826\n",
      "Epoch 68/500\n",
      "1563/1563 [==============================] - 112s 72ms/step - loss: 0.0798 - accuracy: 0.9847\n",
      "Epoch 69/500\n",
      "1563/1563 [==============================] - 112s 72ms/step - loss: 0.0774 - accuracy: 0.9851\n",
      "Epoch 70/500\n",
      "1563/1563 [==============================] - 112s 72ms/step - loss: 0.0683 - accuracy: 0.9874\n",
      "Epoch 71/500\n",
      "1563/1563 [==============================] - 114s 73ms/step - loss: 0.0733 - accuracy: 0.9855\n",
      "Epoch 72/500\n",
      "1563/1563 [==============================] - 112s 72ms/step - loss: 0.0605 - accuracy: 0.9895\n",
      "Epoch 73/500\n",
      "1563/1563 [==============================] - 113s 72ms/step - loss: 0.0525 - accuracy: 0.9919\n",
      "Epoch 74/500\n",
      "1563/1563 [==============================] - 112s 72ms/step - loss: 0.0487 - accuracy: 0.9925\n",
      "Epoch 75/500\n",
      "1563/1563 [==============================] - 112s 72ms/step - loss: 0.0463 - accuracy: 0.9932\n",
      "Epoch 76/500\n",
      "1563/1563 [==============================] - 110s 70ms/step - loss: 0.0438 - accuracy: 0.9937\n",
      "Epoch 77/500\n"
     ]
    },
    {
     "name": "stdout",
     "output_type": "stream",
     "text": [
      "1563/1563 [==============================] - 108s 69ms/step - loss: 0.0392 - accuracy: 0.9955\n",
      "Epoch 78/500\n",
      "1563/1563 [==============================] - 108s 69ms/step - loss: 0.0356 - accuracy: 0.9959\n",
      "Epoch 79/500\n",
      "1563/1563 [==============================] - 108s 69ms/step - loss: 0.0343 - accuracy: 0.9959\n",
      "Epoch 80/500\n",
      "1563/1563 [==============================] - 108s 69ms/step - loss: 0.0322 - accuracy: 0.9961\n",
      "Epoch 81/500\n",
      "1563/1563 [==============================] - 109s 70ms/step - loss: 0.0300 - accuracy: 0.9967\n",
      "Epoch 82/500\n",
      "1563/1563 [==============================] - 108s 69ms/step - loss: 0.0274 - accuracy: 0.9975\n",
      "Epoch 83/500\n",
      "1563/1563 [==============================] - 114s 73ms/step - loss: 0.0250 - accuracy: 0.9977\n",
      "Epoch 84/500\n",
      "1563/1563 [==============================] - 113s 72ms/step - loss: 0.0233 - accuracy: 0.9980\n",
      "Epoch 85/500\n",
      "1563/1563 [==============================] - 113s 72ms/step - loss: 0.0243 - accuracy: 0.9975\n",
      "Epoch 86/500\n",
      "1563/1563 [==============================] - 112s 72ms/step - loss: 0.0203 - accuracy: 0.9985\n",
      "Epoch 87/500\n",
      "1563/1563 [==============================] - 112s 72ms/step - loss: 0.0197 - accuracy: 0.9984\n",
      "Epoch 88/500\n",
      "1563/1563 [==============================] - 112s 72ms/step - loss: 0.0177 - accuracy: 0.9988\n",
      "Epoch 89/500\n",
      " 488/1563 [========>.....................] - ETA: 1:18 - loss: 0.0167 - accuracy: 0.9990"
     ]
    },
    {
     "ename": "KeyboardInterrupt",
     "evalue": "",
     "output_type": "error",
     "traceback": [
      "\u001b[1;31m---------------------------------------------------------------------------\u001b[0m",
      "\u001b[1;31mKeyboardInterrupt\u001b[0m                         Traceback (most recent call last)",
      "Input \u001b[1;32mIn [43]\u001b[0m, in \u001b[0;36m<cell line: 1>\u001b[1;34m()\u001b[0m\n\u001b[1;32m----> 1\u001b[0m \u001b[43mmodel\u001b[49m\u001b[38;5;241;43m.\u001b[39;49m\u001b[43mfit\u001b[49m\u001b[43m(\u001b[49m\u001b[43mx_train_scaled\u001b[49m\u001b[43m,\u001b[49m\u001b[43my_train_categorical\u001b[49m\u001b[43m,\u001b[49m\u001b[43mepochs\u001b[49m\u001b[38;5;241;43m=\u001b[39;49m\u001b[38;5;241;43m500\u001b[39;49m\u001b[43m)\u001b[49m\n",
      "File \u001b[1;32m~\\anaconda3\\lib\\site-packages\\keras\\utils\\traceback_utils.py:64\u001b[0m, in \u001b[0;36mfilter_traceback.<locals>.error_handler\u001b[1;34m(*args, **kwargs)\u001b[0m\n\u001b[0;32m     62\u001b[0m filtered_tb \u001b[38;5;241m=\u001b[39m \u001b[38;5;28;01mNone\u001b[39;00m\n\u001b[0;32m     63\u001b[0m \u001b[38;5;28;01mtry\u001b[39;00m:\n\u001b[1;32m---> 64\u001b[0m   \u001b[38;5;28;01mreturn\u001b[39;00m fn(\u001b[38;5;241m*\u001b[39margs, \u001b[38;5;241m*\u001b[39m\u001b[38;5;241m*\u001b[39mkwargs)\n\u001b[0;32m     65\u001b[0m \u001b[38;5;28;01mexcept\u001b[39;00m \u001b[38;5;167;01mException\u001b[39;00m \u001b[38;5;28;01mas\u001b[39;00m e:  \u001b[38;5;66;03m# pylint: disable=broad-except\u001b[39;00m\n\u001b[0;32m     66\u001b[0m   filtered_tb \u001b[38;5;241m=\u001b[39m _process_traceback_frames(e\u001b[38;5;241m.\u001b[39m__traceback__)\n",
      "File \u001b[1;32m~\\anaconda3\\lib\\site-packages\\keras\\engine\\training.py:1414\u001b[0m, in \u001b[0;36mModel.fit\u001b[1;34m(self, x, y, batch_size, epochs, verbose, callbacks, validation_split, validation_data, shuffle, class_weight, sample_weight, initial_epoch, steps_per_epoch, validation_steps, validation_batch_size, validation_freq, max_queue_size, workers, use_multiprocessing)\u001b[0m\n\u001b[0;32m   1412\u001b[0m logs \u001b[38;5;241m=\u001b[39m tmp_logs  \u001b[38;5;66;03m# No error, now safe to assign to logs.\u001b[39;00m\n\u001b[0;32m   1413\u001b[0m end_step \u001b[38;5;241m=\u001b[39m step \u001b[38;5;241m+\u001b[39m data_handler\u001b[38;5;241m.\u001b[39mstep_increment\n\u001b[1;32m-> 1414\u001b[0m \u001b[43mcallbacks\u001b[49m\u001b[38;5;241;43m.\u001b[39;49m\u001b[43mon_train_batch_end\u001b[49m\u001b[43m(\u001b[49m\u001b[43mend_step\u001b[49m\u001b[43m,\u001b[49m\u001b[43m \u001b[49m\u001b[43mlogs\u001b[49m\u001b[43m)\u001b[49m\n\u001b[0;32m   1415\u001b[0m \u001b[38;5;28;01mif\u001b[39;00m \u001b[38;5;28mself\u001b[39m\u001b[38;5;241m.\u001b[39mstop_training:\n\u001b[0;32m   1416\u001b[0m   \u001b[38;5;28;01mbreak\u001b[39;00m\n",
      "File \u001b[1;32m~\\anaconda3\\lib\\site-packages\\keras\\callbacks.py:438\u001b[0m, in \u001b[0;36mCallbackList.on_train_batch_end\u001b[1;34m(self, batch, logs)\u001b[0m\n\u001b[0;32m    431\u001b[0m \u001b[38;5;124;03m\"\"\"Calls the `on_train_batch_end` methods of its callbacks.\u001b[39;00m\n\u001b[0;32m    432\u001b[0m \n\u001b[0;32m    433\u001b[0m \u001b[38;5;124;03mArgs:\u001b[39;00m\n\u001b[0;32m    434\u001b[0m \u001b[38;5;124;03m    batch: Integer, index of batch within the current epoch.\u001b[39;00m\n\u001b[0;32m    435\u001b[0m \u001b[38;5;124;03m    logs: Dict. Aggregated metric results up until this batch.\u001b[39;00m\n\u001b[0;32m    436\u001b[0m \u001b[38;5;124;03m\"\"\"\u001b[39;00m\n\u001b[0;32m    437\u001b[0m \u001b[38;5;28;01mif\u001b[39;00m \u001b[38;5;28mself\u001b[39m\u001b[38;5;241m.\u001b[39m_should_call_train_batch_hooks:\n\u001b[1;32m--> 438\u001b[0m   \u001b[38;5;28;43mself\u001b[39;49m\u001b[38;5;241;43m.\u001b[39;49m\u001b[43m_call_batch_hook\u001b[49m\u001b[43m(\u001b[49m\u001b[43mModeKeys\u001b[49m\u001b[38;5;241;43m.\u001b[39;49m\u001b[43mTRAIN\u001b[49m\u001b[43m,\u001b[49m\u001b[43m \u001b[49m\u001b[38;5;124;43m'\u001b[39;49m\u001b[38;5;124;43mend\u001b[39;49m\u001b[38;5;124;43m'\u001b[39;49m\u001b[43m,\u001b[49m\u001b[43m \u001b[49m\u001b[43mbatch\u001b[49m\u001b[43m,\u001b[49m\u001b[43m \u001b[49m\u001b[43mlogs\u001b[49m\u001b[38;5;241;43m=\u001b[39;49m\u001b[43mlogs\u001b[49m\u001b[43m)\u001b[49m\n",
      "File \u001b[1;32m~\\anaconda3\\lib\\site-packages\\keras\\callbacks.py:297\u001b[0m, in \u001b[0;36mCallbackList._call_batch_hook\u001b[1;34m(self, mode, hook, batch, logs)\u001b[0m\n\u001b[0;32m    295\u001b[0m   \u001b[38;5;28mself\u001b[39m\u001b[38;5;241m.\u001b[39m_call_batch_begin_hook(mode, batch, logs)\n\u001b[0;32m    296\u001b[0m \u001b[38;5;28;01melif\u001b[39;00m hook \u001b[38;5;241m==\u001b[39m \u001b[38;5;124m'\u001b[39m\u001b[38;5;124mend\u001b[39m\u001b[38;5;124m'\u001b[39m:\n\u001b[1;32m--> 297\u001b[0m   \u001b[38;5;28;43mself\u001b[39;49m\u001b[38;5;241;43m.\u001b[39;49m\u001b[43m_call_batch_end_hook\u001b[49m\u001b[43m(\u001b[49m\u001b[43mmode\u001b[49m\u001b[43m,\u001b[49m\u001b[43m \u001b[49m\u001b[43mbatch\u001b[49m\u001b[43m,\u001b[49m\u001b[43m \u001b[49m\u001b[43mlogs\u001b[49m\u001b[43m)\u001b[49m\n\u001b[0;32m    298\u001b[0m \u001b[38;5;28;01melse\u001b[39;00m:\n\u001b[0;32m    299\u001b[0m   \u001b[38;5;28;01mraise\u001b[39;00m \u001b[38;5;167;01mValueError\u001b[39;00m(\n\u001b[0;32m    300\u001b[0m       \u001b[38;5;124mf\u001b[39m\u001b[38;5;124m'\u001b[39m\u001b[38;5;124mUnrecognized hook: \u001b[39m\u001b[38;5;132;01m{\u001b[39;00mhook\u001b[38;5;132;01m}\u001b[39;00m\u001b[38;5;124m. Expected values are [\u001b[39m\u001b[38;5;124m\"\u001b[39m\u001b[38;5;124mbegin\u001b[39m\u001b[38;5;124m\"\u001b[39m\u001b[38;5;124m, \u001b[39m\u001b[38;5;124m\"\u001b[39m\u001b[38;5;124mend\u001b[39m\u001b[38;5;124m\"\u001b[39m\u001b[38;5;124m]\u001b[39m\u001b[38;5;124m'\u001b[39m)\n",
      "File \u001b[1;32m~\\anaconda3\\lib\\site-packages\\keras\\callbacks.py:318\u001b[0m, in \u001b[0;36mCallbackList._call_batch_end_hook\u001b[1;34m(self, mode, batch, logs)\u001b[0m\n\u001b[0;32m    315\u001b[0m   batch_time \u001b[38;5;241m=\u001b[39m time\u001b[38;5;241m.\u001b[39mtime() \u001b[38;5;241m-\u001b[39m \u001b[38;5;28mself\u001b[39m\u001b[38;5;241m.\u001b[39m_batch_start_time\n\u001b[0;32m    316\u001b[0m   \u001b[38;5;28mself\u001b[39m\u001b[38;5;241m.\u001b[39m_batch_times\u001b[38;5;241m.\u001b[39mappend(batch_time)\n\u001b[1;32m--> 318\u001b[0m \u001b[38;5;28;43mself\u001b[39;49m\u001b[38;5;241;43m.\u001b[39;49m\u001b[43m_call_batch_hook_helper\u001b[49m\u001b[43m(\u001b[49m\u001b[43mhook_name\u001b[49m\u001b[43m,\u001b[49m\u001b[43m \u001b[49m\u001b[43mbatch\u001b[49m\u001b[43m,\u001b[49m\u001b[43m \u001b[49m\u001b[43mlogs\u001b[49m\u001b[43m)\u001b[49m\n\u001b[0;32m    320\u001b[0m \u001b[38;5;28;01mif\u001b[39;00m \u001b[38;5;28mlen\u001b[39m(\u001b[38;5;28mself\u001b[39m\u001b[38;5;241m.\u001b[39m_batch_times) \u001b[38;5;241m>\u001b[39m\u001b[38;5;241m=\u001b[39m \u001b[38;5;28mself\u001b[39m\u001b[38;5;241m.\u001b[39m_num_batches_for_timing_check:\n\u001b[0;32m    321\u001b[0m   end_hook_name \u001b[38;5;241m=\u001b[39m hook_name\n",
      "File \u001b[1;32m~\\anaconda3\\lib\\site-packages\\keras\\callbacks.py:356\u001b[0m, in \u001b[0;36mCallbackList._call_batch_hook_helper\u001b[1;34m(self, hook_name, batch, logs)\u001b[0m\n\u001b[0;32m    354\u001b[0m \u001b[38;5;28;01mfor\u001b[39;00m callback \u001b[38;5;129;01min\u001b[39;00m \u001b[38;5;28mself\u001b[39m\u001b[38;5;241m.\u001b[39mcallbacks:\n\u001b[0;32m    355\u001b[0m   hook \u001b[38;5;241m=\u001b[39m \u001b[38;5;28mgetattr\u001b[39m(callback, hook_name)\n\u001b[1;32m--> 356\u001b[0m   \u001b[43mhook\u001b[49m\u001b[43m(\u001b[49m\u001b[43mbatch\u001b[49m\u001b[43m,\u001b[49m\u001b[43m \u001b[49m\u001b[43mlogs\u001b[49m\u001b[43m)\u001b[49m\n\u001b[0;32m    358\u001b[0m \u001b[38;5;28;01mif\u001b[39;00m \u001b[38;5;28mself\u001b[39m\u001b[38;5;241m.\u001b[39m_check_timing:\n\u001b[0;32m    359\u001b[0m   \u001b[38;5;28;01mif\u001b[39;00m hook_name \u001b[38;5;129;01mnot\u001b[39;00m \u001b[38;5;129;01min\u001b[39;00m \u001b[38;5;28mself\u001b[39m\u001b[38;5;241m.\u001b[39m_hook_times:\n",
      "File \u001b[1;32m~\\anaconda3\\lib\\site-packages\\keras\\callbacks.py:1034\u001b[0m, in \u001b[0;36mProgbarLogger.on_train_batch_end\u001b[1;34m(self, batch, logs)\u001b[0m\n\u001b[0;32m   1033\u001b[0m \u001b[38;5;28;01mdef\u001b[39;00m \u001b[38;5;21mon_train_batch_end\u001b[39m(\u001b[38;5;28mself\u001b[39m, batch, logs\u001b[38;5;241m=\u001b[39m\u001b[38;5;28;01mNone\u001b[39;00m):\n\u001b[1;32m-> 1034\u001b[0m   \u001b[38;5;28;43mself\u001b[39;49m\u001b[38;5;241;43m.\u001b[39;49m\u001b[43m_batch_update_progbar\u001b[49m\u001b[43m(\u001b[49m\u001b[43mbatch\u001b[49m\u001b[43m,\u001b[49m\u001b[43m \u001b[49m\u001b[43mlogs\u001b[49m\u001b[43m)\u001b[49m\n",
      "File \u001b[1;32m~\\anaconda3\\lib\\site-packages\\keras\\callbacks.py:1107\u001b[0m, in \u001b[0;36mProgbarLogger._batch_update_progbar\u001b[1;34m(self, batch, logs)\u001b[0m\n\u001b[0;32m   1104\u001b[0m \u001b[38;5;28;01mif\u001b[39;00m \u001b[38;5;28mself\u001b[39m\u001b[38;5;241m.\u001b[39mverbose \u001b[38;5;241m==\u001b[39m \u001b[38;5;241m1\u001b[39m:\n\u001b[0;32m   1105\u001b[0m   \u001b[38;5;66;03m# Only block async when verbose = 1.\u001b[39;00m\n\u001b[0;32m   1106\u001b[0m   logs \u001b[38;5;241m=\u001b[39m tf_utils\u001b[38;5;241m.\u001b[39msync_to_numpy_or_python_type(logs)\n\u001b[1;32m-> 1107\u001b[0m   \u001b[38;5;28;43mself\u001b[39;49m\u001b[38;5;241;43m.\u001b[39;49m\u001b[43mprogbar\u001b[49m\u001b[38;5;241;43m.\u001b[39;49m\u001b[43mupdate\u001b[49m\u001b[43m(\u001b[49m\u001b[38;5;28;43mself\u001b[39;49m\u001b[38;5;241;43m.\u001b[39;49m\u001b[43mseen\u001b[49m\u001b[43m,\u001b[49m\u001b[43m \u001b[49m\u001b[38;5;28;43mlist\u001b[39;49m\u001b[43m(\u001b[49m\u001b[43mlogs\u001b[49m\u001b[38;5;241;43m.\u001b[39;49m\u001b[43mitems\u001b[49m\u001b[43m(\u001b[49m\u001b[43m)\u001b[49m\u001b[43m)\u001b[49m\u001b[43m,\u001b[49m\u001b[43m \u001b[49m\u001b[43mfinalize\u001b[49m\u001b[38;5;241;43m=\u001b[39;49m\u001b[38;5;28;43;01mFalse\u001b[39;49;00m\u001b[43m)\u001b[49m\n",
      "File \u001b[1;32m~\\anaconda3\\lib\\site-packages\\keras\\utils\\generic_utils.py:976\u001b[0m, in \u001b[0;36mProgbar.update\u001b[1;34m(self, current, values, finalize)\u001b[0m\n\u001b[0;32m    973\u001b[0m     info \u001b[38;5;241m+\u001b[39m\u001b[38;5;241m=\u001b[39m \u001b[38;5;124m'\u001b[39m\u001b[38;5;130;01m\\n\u001b[39;00m\u001b[38;5;124m'\u001b[39m\n\u001b[0;32m    975\u001b[0m   message \u001b[38;5;241m+\u001b[39m\u001b[38;5;241m=\u001b[39m info\n\u001b[1;32m--> 976\u001b[0m   \u001b[43mio_utils\u001b[49m\u001b[38;5;241;43m.\u001b[39;49m\u001b[43mprint_msg\u001b[49m\u001b[43m(\u001b[49m\u001b[43mmessage\u001b[49m\u001b[43m,\u001b[49m\u001b[43m \u001b[49m\u001b[43mline_break\u001b[49m\u001b[38;5;241;43m=\u001b[39;49m\u001b[38;5;28;43;01mFalse\u001b[39;49;00m\u001b[43m)\u001b[49m\n\u001b[0;32m    977\u001b[0m   message \u001b[38;5;241m=\u001b[39m \u001b[38;5;124m'\u001b[39m\u001b[38;5;124m'\u001b[39m\n\u001b[0;32m    979\u001b[0m \u001b[38;5;28;01melif\u001b[39;00m \u001b[38;5;28mself\u001b[39m\u001b[38;5;241m.\u001b[39mverbose \u001b[38;5;241m==\u001b[39m \u001b[38;5;241m2\u001b[39m:\n",
      "File \u001b[1;32m~\\anaconda3\\lib\\site-packages\\keras\\utils\\io_utils.py:78\u001b[0m, in \u001b[0;36mprint_msg\u001b[1;34m(message, line_break)\u001b[0m\n\u001b[0;32m     76\u001b[0m   \u001b[38;5;28;01melse\u001b[39;00m:\n\u001b[0;32m     77\u001b[0m     sys\u001b[38;5;241m.\u001b[39mstdout\u001b[38;5;241m.\u001b[39mwrite(message)\n\u001b[1;32m---> 78\u001b[0m   \u001b[43msys\u001b[49m\u001b[38;5;241;43m.\u001b[39;49m\u001b[43mstdout\u001b[49m\u001b[38;5;241;43m.\u001b[39;49m\u001b[43mflush\u001b[49m\u001b[43m(\u001b[49m\u001b[43m)\u001b[49m\n\u001b[0;32m     79\u001b[0m \u001b[38;5;28;01melse\u001b[39;00m:\n\u001b[0;32m     80\u001b[0m   logging\u001b[38;5;241m.\u001b[39minfo(message)\n",
      "File \u001b[1;32m~\\anaconda3\\lib\\site-packages\\ipykernel\\iostream.py:468\u001b[0m, in \u001b[0;36mOutStream.flush\u001b[1;34m(self)\u001b[0m\n\u001b[0;32m    466\u001b[0m         \u001b[38;5;28mself\u001b[39m\u001b[38;5;241m.\u001b[39mpub_thread\u001b[38;5;241m.\u001b[39mschedule(evt\u001b[38;5;241m.\u001b[39mset)\n\u001b[0;32m    467\u001b[0m         \u001b[38;5;66;03m# and give a timeout to avoid\u001b[39;00m\n\u001b[1;32m--> 468\u001b[0m         \u001b[38;5;28;01mif\u001b[39;00m \u001b[38;5;129;01mnot\u001b[39;00m \u001b[43mevt\u001b[49m\u001b[38;5;241;43m.\u001b[39;49m\u001b[43mwait\u001b[49m\u001b[43m(\u001b[49m\u001b[38;5;28;43mself\u001b[39;49m\u001b[38;5;241;43m.\u001b[39;49m\u001b[43mflush_timeout\u001b[49m\u001b[43m)\u001b[49m:\n\u001b[0;32m    469\u001b[0m             \u001b[38;5;66;03m# write directly to __stderr__ instead of warning because\u001b[39;00m\n\u001b[0;32m    470\u001b[0m             \u001b[38;5;66;03m# if this is happening sys.stderr may be the problem.\u001b[39;00m\n\u001b[0;32m    471\u001b[0m             \u001b[38;5;28mprint\u001b[39m(\u001b[38;5;124m\"\u001b[39m\u001b[38;5;124mIOStream.flush timed out\u001b[39m\u001b[38;5;124m\"\u001b[39m, file\u001b[38;5;241m=\u001b[39msys\u001b[38;5;241m.\u001b[39m__stderr__)\n\u001b[0;32m    472\u001b[0m \u001b[38;5;28;01melse\u001b[39;00m:\n",
      "File \u001b[1;32m~\\anaconda3\\lib\\threading.py:574\u001b[0m, in \u001b[0;36mEvent.wait\u001b[1;34m(self, timeout)\u001b[0m\n\u001b[0;32m    572\u001b[0m signaled \u001b[38;5;241m=\u001b[39m \u001b[38;5;28mself\u001b[39m\u001b[38;5;241m.\u001b[39m_flag\n\u001b[0;32m    573\u001b[0m \u001b[38;5;28;01mif\u001b[39;00m \u001b[38;5;129;01mnot\u001b[39;00m signaled:\n\u001b[1;32m--> 574\u001b[0m     signaled \u001b[38;5;241m=\u001b[39m \u001b[38;5;28;43mself\u001b[39;49m\u001b[38;5;241;43m.\u001b[39;49m\u001b[43m_cond\u001b[49m\u001b[38;5;241;43m.\u001b[39;49m\u001b[43mwait\u001b[49m\u001b[43m(\u001b[49m\u001b[43mtimeout\u001b[49m\u001b[43m)\u001b[49m\n\u001b[0;32m    575\u001b[0m \u001b[38;5;28;01mreturn\u001b[39;00m signaled\n",
      "File \u001b[1;32m~\\anaconda3\\lib\\threading.py:316\u001b[0m, in \u001b[0;36mCondition.wait\u001b[1;34m(self, timeout)\u001b[0m\n\u001b[0;32m    314\u001b[0m \u001b[38;5;28;01melse\u001b[39;00m:\n\u001b[0;32m    315\u001b[0m     \u001b[38;5;28;01mif\u001b[39;00m timeout \u001b[38;5;241m>\u001b[39m \u001b[38;5;241m0\u001b[39m:\n\u001b[1;32m--> 316\u001b[0m         gotit \u001b[38;5;241m=\u001b[39m \u001b[43mwaiter\u001b[49m\u001b[38;5;241;43m.\u001b[39;49m\u001b[43macquire\u001b[49m\u001b[43m(\u001b[49m\u001b[38;5;28;43;01mTrue\u001b[39;49;00m\u001b[43m,\u001b[49m\u001b[43m \u001b[49m\u001b[43mtimeout\u001b[49m\u001b[43m)\u001b[49m\n\u001b[0;32m    317\u001b[0m     \u001b[38;5;28;01melse\u001b[39;00m:\n\u001b[0;32m    318\u001b[0m         gotit \u001b[38;5;241m=\u001b[39m waiter\u001b[38;5;241m.\u001b[39macquire(\u001b[38;5;28;01mFalse\u001b[39;00m)\n",
      "\u001b[1;31mKeyboardInterrupt\u001b[0m: "
     ]
    }
   ],
   "source": [
    "model.fit(x_train_scaled,y_train_categorical,epochs=500)"
   ]
  },
  {
   "cell_type": "code",
   "execution_count": null,
   "id": "af147e3b",
   "metadata": {},
   "outputs": [],
   "source": [
    "model.evaluate(x_test_scaled,y_test_categorical)\n"
   ]
  },
  {
   "cell_type": "code",
   "execution_count": null,
   "id": "0b30239b",
   "metadata": {},
   "outputs": [],
   "source": [
    "model.predict(x_test_scaled)"
   ]
  }
 ],
 "metadata": {
  "kernelspec": {
   "display_name": "Python 3 (ipykernel)",
   "language": "python",
   "name": "python3"
  },
  "language_info": {
   "codemirror_mode": {
    "name": "ipython",
    "version": 3
   },
   "file_extension": ".py",
   "mimetype": "text/x-python",
   "name": "python",
   "nbconvert_exporter": "python",
   "pygments_lexer": "ipython3",
   "version": "3.9.12"
  }
 },
 "nbformat": 4,
 "nbformat_minor": 5
}
