{
 "cells": [
  {
   "cell_type": "code",
   "execution_count": 33,
   "id": "aa7f8142",
   "metadata": {},
   "outputs": [],
   "source": [
    "from sklearn.datasets import load_digits\n",
    "import pandas\n",
    "digits= load_digits()\n"
   ]
  },
  {
   "cell_type": "code",
   "execution_count": 34,
   "id": "95ed206b",
   "metadata": {},
   "outputs": [
    {
     "name": "stdout",
     "output_type": "stream",
     "text": [
      "Data images  (1797, 64)\n",
      "Label data shape (1797,)\n"
     ]
    }
   ],
   "source": [
    "print('Data images ', digits.data.shape)\n",
    "print('Label data shape', digits.target.shape)"
   ]
  },
  {
   "cell_type": "code",
   "execution_count": 48,
   "id": "dfdbaccc",
   "metadata": {},
   "outputs": [
    {
     "data": {
      "image/png": "[encoded data removed]",
      "text/plain": [
       "<Figure size 1440x360 with 5 Axes>"
      ]
     },
     "metadata": {
      "needs_background": "light"
     },
     "output_type": "display_data"
    }
   ],
   "source": [
    "import matplotlib.pyplot as pyp\n",
    "import numpy as np\n",
    "pyp.figure(figsize=(20,5))\n",
    "for index , (image,label) in enumerate(zip(digits.data[0:5],digits.target[0:5])):\n",
    "    pyp.subplot(1,5, index +1)\n",
    "    pyp.imshow(np.reshape(image,(8,8)),cmap=pyp.cm.gray)\n",
    "    pyp.title('Training:', fontsize = 20)\n",
    "    \n",
    "\n"
   ]
  },
  {
   "cell_type": "code",
   "execution_count": 50,
   "id": "00159cd5",
   "metadata": {},
   "outputs": [],
   "source": [
    "from sklearn.model_selection import train_test_split\n",
    "inp_x,tst_x,out_y,tst_y=train_test_split(digits.data,digits.target, test_size= 0.25)\n"
   ]
  },
  {
   "cell_type": "code",
   "execution_count": 53,
   "id": "9e3d8e71",
   "metadata": {},
   "outputs": [
    {
     "name": "stderr",
     "output_type": "stream",
     "text": [
      "C:\\Users\\talha\\anaconda3\\lib\\site-packages\\sklearn\\linear_model\\_logistic.py:814: ConvergenceWarning: lbfgs failed to converge (status=1):\n",
      "STOP: TOTAL NO. of ITERATIONS REACHED LIMIT.\n",
      "\n",
      "Increase the number of iterations (max_iter) or scale the data as shown in:\n",
      "    https://scikit-learn.org/stable/modules/preprocessing.html\n",
      "Please also refer to the documentation for alternative solver options:\n",
      "    https://scikit-learn.org/stable/modules/linear_model.html#logistic-regression\n",
      "  n_iter_i = _check_optimize_result(\n"
     ]
    },
    {
     "data": {
      "text/plain": [
       "LogisticRegression()"
      ]
     },
     "execution_count": 53,
     "metadata": {},
     "output_type": "execute_result"
    }
   ],
   "source": [
    "from sklearn.linear_model import LogisticRegression\n",
    "model= LogisticRegression()\n",
    "model.fit(inp_x,out_y)\n"
   ]
  },
  {
   "cell_type": "code",
   "execution_count": 58,
   "id": "80e0abc2",
   "metadata": {},
   "outputs": [],
   "source": [
    "pred_y= model.predict(tst_x)"
   ]
  },
  {
   "cell_type": "code",
   "execution_count": 60,
   "id": "5dd958f9",
   "metadata": {},
   "outputs": [
    {
     "data": {
      "text/plain": [
       "95.33333333333334"
      ]
     },
     "execution_count": 60,
     "metadata": {},
     "output_type": "execute_result"
    }
   ],
   "source": [
    "from sklearn.metrics import accuracy_score\n",
    "acc= accuracy_score(tst_y,pred_y)*100\n",
    "acc"
   ]
  },
  {
   "cell_type": "code",
   "execution_count": 61,
   "id": "2681ca9e",
   "metadata": {},
   "outputs": [
    {
     "data": {
      "text/plain": [
       "array([[43,  1,  0,  0,  0,  0,  1,  0,  0,  0],\n",
       "       [ 0, 51,  1,  0,  0,  0,  0,  0,  0,  0],\n",
       "       [ 0,  0, 38,  1,  0,  0,  0,  0,  0,  0],\n",
       "       [ 0,  0,  1, 47,  0,  1,  0,  0,  0,  1],\n",
       "       [ 0,  0,  0,  0, 46,  0,  1,  0,  0,  0],\n",
       "       [ 0,  0,  0,  1,  0, 34,  0,  1,  0,  3],\n",
       "       [ 0,  0,  0,  0,  0,  0, 46,  0,  1,  0],\n",
       "       [ 0,  0,  0,  0,  0,  0,  0, 43,  0,  0],\n",
       "       [ 0,  4,  0,  0,  0,  0,  0,  0, 43,  0],\n",
       "       [ 0,  0,  0,  0,  1,  0,  0,  0,  2, 38]], dtype=int64)"
      ]
     },
     "execution_count": 61,
     "metadata": {},
     "output_type": "execute_result"
    }
   ],
   "source": [
    "from sklearn import metrics\n",
    "mt= metrics.confusion_matrix(tst_y,pred_y)\n",
    "mt"
   ]
  },
  {
   "cell_type": "code",
   "execution_count": 67,
   "id": "e012ddc4",
   "metadata": {},
   "outputs": [
    {
     "data": {
      "text/plain": [
       "Text(0.5, 15.0, 'predicted value')"
      ]
     },
     "execution_count": 67,
     "metadata": {},
     "output_type": "execute_result"
    },
    {
     "data": {
      "image/png": "[encoded data removed]",
      "text/plain": [
       "<Figure size 432x288 with 2 Axes>"
      ]
     },
     "metadata": {
      "needs_background": "light"
     },
     "output_type": "display_data"
    }
   ],
   "source": [
    "import seaborn as sns\n",
    "sns.heatmap(mt)\n",
    "pyp.ylabel('actual value')\n",
    "pyp.xlabel('predicted value')\n"
   ]
  }
 ],
 "metadata": {
  "kernelspec": {
   "display_name": "Python 3 (ipykernel)",
   "language": "python",
   "name": "python3"
  },
  "language_info": {
   "codemirror_mode": {
    "name": "ipython",
    "version": 3
   },
   "file_extension": ".py",
   "mimetype": "text/x-python",
   "name": "python",
   "nbconvert_exporter": "python",
   "pygments_lexer": "ipython3",
   "version": "3.9.12"
  }
 },
 "nbformat": 4,
 "nbformat_minor": 5
}
