{
 "cells": [
  {
   "cell_type": "code",
   "execution_count": 11,
   "id": "270a73f4",
   "metadata": {},
   "outputs": [],
   "source": [
    "import numpy as np"
   ]
  },
  {
   "cell_type": "code",
   "execution_count": 12,
   "id": "48a5f10c",
   "metadata": {},
   "outputs": [],
   "source": [
    "def log_loss(y_true,y_predict):\n",
    "    epsilon= 1e-15\n",
    "    \n",
    "    new_pred=(max(i,epsilon) for i in new_pred)\n",
    "    new_pred=(min(i,1-epsilon) for i in new_pred)\n",
    "    new_pred(np.array(new_pred))\n",
    "    return -np.mean(y_true*np.log(new_pred)*(1-y_true)*np.log(1-new_pred))\n"
   ]
  },
  {
   "cell_type": "code",
   "execution_count": 18,
   "id": "5d3c1821",
   "metadata": {},
   "outputs": [
    {
     "data": {
      "text/plain": [
       "array([0.99999386, 0.73105858, 0.5       ])"
      ]
     },
     "execution_count": 18,
     "metadata": {},
     "output_type": "execute_result"
    }
   ],
   "source": [
    "def sigmoid(x):\n",
    "    return  1/(1+np.exp(-x))\n",
    "\n",
    "\n",
    "sigmoid(np.array([12,1,0]))"
   ]
  },
  {
   "cell_type": "code",
   "execution_count": 21,
   "id": "75ca46cd",
   "metadata": {},
   "outputs": [],
   "source": [
    "def gradient(age, affordibility, epochs, y_true):\n",
    "    w1,w2=1\n",
    "    bias=0\n",
    "    rate=0.5\n",
    "    n=len(age)\n",
    "    for i in range(epochs):\n",
    "        weigh_sum= w1*age+w2*affordibility+bias\n",
    "        y_predict= sigmoid(y_true,y_predict)\n",
    "        \n",
    "        loss= log_loss(y_true,y_predict)\n",
    "        \n",
    "        w1d= (1/n)*np.dot(np.transpose(age)*(y_true-y_predict))\n",
    "        w2d=(1/n)*np.dot(np.transpose(affordibility)*(y_true- y_predict))\n",
    "        \n",
    "        baid_d= np.mean(y_true-y_predict)\n",
    "        \n",
    "        w1=w1-rate*w1d\n",
    "        w2= w2-rate*w2d\n",
    "        bias= bias-rate*baid_d\n",
    "        print(f'epochs{i},w1{w1},w2{w2},loss{loss},bias{bias}')\n",
    "    return w1, w2,bias\n",
    "        \n",
    "        \n",
    "    "
   ]
  }
 ],
 "metadata": {
  "kernelspec": {
   "display_name": "Python 3 (ipykernel)",
   "language": "python",
   "name": "python3"
  },
  "language_info": {
   "codemirror_mode": {
    "name": "ipython",
    "version": 3
   },
   "file_extension": ".py",
   "mimetype": "text/x-python",
   "name": "python",
   "nbconvert_exporter": "python",
   "pygments_lexer": "ipython3",
   "version": "3.9.12"
  }
 },
 "nbformat": 4,
 "nbformat_minor": 5
}
