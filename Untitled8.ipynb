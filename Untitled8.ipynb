{
 "cells": [
  {
   "cell_type": "code",
   "execution_count": 91,
   "id": "0cc77c21",
   "metadata": {},
   "outputs": [
    {
     "name": "stdout",
     "output_type": "stream",
     "text": [
      "array of testing feature matrix: shape (10000, 784)\n",
      "array of testing label matrix: shape (10000,)\n",
      "int32\n"
     ]
    },
    {
     "ename": "ValueError",
     "evalue": "cannot reshape array of size 1 into shape (1,28,28)",
     "output_type": "error",
     "traceback": [
      "\u001b[1;31m---------------------------------------------------------------------------\u001b[0m",
      "\u001b[1;31mValueError\u001b[0m                                Traceback (most recent call last)",
      "Input \u001b[1;32mIn [91]\u001b[0m, in \u001b[0;36m<cell line: 35>\u001b[1;34m()\u001b[0m\n\u001b[0;32m     34\u001b[0m centroids \u001b[38;5;241m=\u001b[39m (np\u001b[38;5;241m.\u001b[39mrandom\u001b[38;5;241m.\u001b[39mnormal(size\u001b[38;5;241m=\u001b[39m(\u001b[38;5;241m28\u001b[39m, \u001b[38;5;241m28\u001b[39m)) \u001b[38;5;241m*\u001b[39m \u001b[38;5;241m0.0001\u001b[39m) \u001b[38;5;241m+\u001b[39m np\u001b[38;5;241m.\u001b[39mmean((test_features),axis\u001b[38;5;241m=\u001b[39m\u001b[38;5;241m0\u001b[39m)\u001b[38;5;241m.\u001b[39mreshape((\u001b[38;5;241m1\u001b[39m,\u001b[38;5;241m28\u001b[39m,\u001b[38;5;241m28\u001b[39m))\n\u001b[0;32m     35\u001b[0m \u001b[38;5;28;01mfor\u001b[39;00m i \u001b[38;5;129;01min\u001b[39;00m \u001b[38;5;28mrange\u001b[39m(\u001b[38;5;241m100\u001b[39m):\n\u001b[1;32m---> 36\u001b[0m     a \u001b[38;5;241m=\u001b[39m \u001b[43mupdate_assignments\u001b[49m\u001b[43m(\u001b[49m\u001b[43mtest_labels\u001b[49m\u001b[43m,\u001b[49m\u001b[43m \u001b[49m\u001b[43mcentroids\u001b[49m\u001b[43m)\u001b[49m\n\u001b[0;32m     37\u001b[0m     centroids \u001b[38;5;241m=\u001b[39m update_centroids(data, centroids, a)\n\u001b[0;32m     38\u001b[0m     centroids \u001b[38;5;241m=\u001b[39m np\u001b[38;5;241m.\u001b[39marray(centroids)\n",
      "Input \u001b[1;32mIn [91]\u001b[0m, in \u001b[0;36mupdate_assignments\u001b[1;34m(data, centroids)\u001b[0m\n\u001b[0;32m      7\u001b[0m c \u001b[38;5;241m=\u001b[39m []\n\u001b[0;32m      8\u001b[0m \u001b[38;5;28;01mfor\u001b[39;00m i \u001b[38;5;129;01min\u001b[39;00m data:\n\u001b[1;32m----> 9\u001b[0m     c\u001b[38;5;241m.\u001b[39mappend(np\u001b[38;5;241m.\u001b[39margmin(np\u001b[38;5;241m.\u001b[39msum((\u001b[43mi\u001b[49m\u001b[38;5;241;43m.\u001b[39;49m\u001b[43mreshape\u001b[49m\u001b[43m(\u001b[49m\u001b[43m(\u001b[49m\u001b[38;5;241;43m1\u001b[39;49m\u001b[43m,\u001b[49m\u001b[38;5;241;43m28\u001b[39;49m\u001b[43m,\u001b[49m\u001b[43m \u001b[49m\u001b[38;5;241;43m28\u001b[39;49m\u001b[43m)\u001b[49m\u001b[43m)\u001b[49m \u001b[38;5;241m-\u001b[39m centroids) \u001b[38;5;241m*\u001b[39m\u001b[38;5;241m*\u001b[39m \u001b[38;5;241m2\u001b[39m, axis\u001b[38;5;241m=\u001b[39m\u001b[38;5;241m1\u001b[39m)))\n\u001b[0;32m     10\u001b[0m \u001b[38;5;28;01mreturn\u001b[39;00m c\n",
      "\u001b[1;31mValueError\u001b[0m: cannot reshape array of size 1 into shape (1,28,28)"
     ]
    }
   ],
   "source": [
    "import numpy as np\n",
    "import matplotlib.pyplot as plt\n",
    "import pandas as pd\n",
    "\n",
    "\n",
    "def update_assignments(data, centroids):\n",
    "    c = []\n",
    "    for i in data:\n",
    "        c.append(np.argmin(np.sum((i.reshape((1,28, 28)) - centroids) ** 2, axis=1)))\n",
    "    return c\n",
    "\n",
    "def update_centroids(data, num_clusters, assignments):\n",
    "    cen = []\n",
    "    for c in range(len(num_clusters)):\n",
    "        cen.append(np.mean([data[x] for x in range(len(data)) if assignments[x] == c], axis=0))\n",
    "    return cen\n",
    "\n",
    "\n",
    "import numpy as np\n",
    "test = np.loadtxt(\"test.txt\", delimiter=',',dtype=int)\n",
    "test_features = test[:, 1:]\n",
    "test_labels = test[:, 0]\n",
    "print('array of testing feature matrix: shape ' + str(np.shape(test_features)))\n",
    "print('array of testing label matrix: shape ' + str(np.shape(test_labels)))\n",
    "\n",
    "print(test.dtype)\n",
    "\n",
    "\n",
    "\n",
    "\n",
    "\n",
    "\n",
    "\n",
    "centroids = (np.random.normal(size=(28, 28)) * 0.0001) + np.mean((test_features),axis=0).reshape((1,28,28))\n",
    "for i in range(100):\n",
    "    a = update_assignments(test_labels, centroids)\n",
    "    centroids = update_centroids(data, centroids, a)\n",
    "    centroids = np.array(centroids)\n",
    "\n",
    "plt.scatter(data[:, 0], data[:, 1])\n",
    "plt.scatter(centroids[:, 0], centroids[:, 1])\n",
    "plt.show()"
   ]
  },
  {
   "cell_type": "code",
   "execution_count": 59,
   "id": "a3240716",
   "metadata": {},
   "outputs": [
    {
     "name": "stdout",
     "output_type": "stream",
     "text": [
      "2\n"
     ]
    }
   ],
   "source": [
    "print(data.ndim)\n"
   ]
  },
  {
   "cell_type": "code",
   "execution_count": 61,
   "id": "f7c969d5",
   "metadata": {},
   "outputs": [
    {
     "name": "stdout",
     "output_type": "stream",
     "text": [
      "2\n"
     ]
    }
   ],
   "source": [
    " print(test.ndim)"
   ]
  },
  {
   "cell_type": "code",
   "execution_count": 63,
   "id": "33ea087e",
   "metadata": {},
   "outputs": [
    {
     "name": "stdout",
     "output_type": "stream",
     "text": [
      "2\n"
     ]
    }
   ],
   "source": [
    "print(test_features.ndim)\n"
   ]
  },
  {
   "cell_type": "code",
   "execution_count": 64,
   "id": "799003bb",
   "metadata": {},
   "outputs": [
    {
     "name": "stdout",
     "output_type": "stream",
     "text": [
      "1\n"
     ]
    }
   ],
   "source": [
    "print(test_labels.ndim)"
   ]
  },
  {
   "cell_type": "code",
   "execution_count": 87,
   "id": "ef5d8035",
   "metadata": {},
   "outputs": [
    {
     "data": {
      "text/plain": [
       "(10000, 784)"
      ]
     },
     "execution_count": 87,
     "metadata": {},
     "output_type": "execute_result"
    }
   ],
   "source": [
    "test_features.shape"
   ]
  }
 ],
 "metadata": {
  "kernelspec": {
   "display_name": "Python 3 (ipykernel)",
   "language": "python",
   "name": "python3"
  },
  "language_info": {
   "codemirror_mode": {
    "name": "ipython",
    "version": 3
   },
   "file_extension": ".py",
   "mimetype": "text/x-python",
   "name": "python",
   "nbconvert_exporter": "python",
   "pygments_lexer": "ipython3",
   "version": "3.9.12"
  }
 },
 "nbformat": 4,
 "nbformat_minor": 5
}
