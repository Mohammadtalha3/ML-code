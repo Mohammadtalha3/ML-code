{
 "cells": [
  {
   "cell_type": "code",
   "execution_count": 1,
   "id": "37036631",
   "metadata": {},
   "outputs": [],
   "source": [
    "import numpy as np\n",
    "import pandas as pd\n",
    "from numpy.lib.stride_tricks import as_strided\n",
    "from sklearn.model_selection import train_test_split\n",
    "from sklearn.datasets import load_iris\n",
    "import matplotlib.pyplot as plt\n",
    "from sklearn.preprocessing import normalize"
   ]
  },
  {
   "cell_type": "code",
   "execution_count": 2,
   "id": "ea54ca4b",
   "metadata": {},
   "outputs": [],
   "source": [
    "def relu(z):\n",
    "    return np.maximum(0.01*z,z)\n",
    "\n",
    "def relu_prime(z):\n",
    "    z[z<=0] = 0.01\n",
    "    z[z>0] = 1\n",
    "    return z\n",
    "\n",
    "def softmax(z, _axis=0):\n",
    "    stable_z = z - np.max(z)\n",
    "    e_z = np.exp(stable_z)\n",
    "    return e_z/np.sum(e_z, axis=_axis, keepdims=True)\n",
    "\n",
    "def binarize(z):\n",
    "    return (z[:,None] == np.arange(z.max()+1)).astype(int)"
   ]
  },
  {
   "cell_type": "code",
   "execution_count": 3,
   "id": "13ebbd18",
   "metadata": {},
   "outputs": [],
   "source": [
    "def murals_batch(units_count, x, y, lr, epochs, bias=False, _seed=42):\n",
    "    batch_size, ni = x.shape[-2:]\n",
    "    units_count.insert(0,ni)\n",
    "    units_count_arr = np.array(units_count)\n",
    "    L, = units_count_arr.shape # Number of layers + 1\n",
    "    # RED ALERT - `as_strided` function is like a LAND-MINE ready to explode in wrong hands!\n",
    "    arr_view = as_strided(units_count_arr, shape=(L-1,2), strides=(4,4))\n",
    "    rng = np.random.default_rng(seed=_seed)\n",
    "    wghts = [None]*(L-1)\n",
    "    intercepts = [None]*(L-1)\n",
    "    Z = [None]*(L-1)\n",
    "    A = [None]*(L-1)\n",
    "    # WEIGHTS INITIALIZATION\n",
    "    for i in range(L-1):\n",
    "        w_cols, w_rows = arr_view[i,:]\n",
    "        wghts[i] = rng.random((w_rows, w_cols))\n",
    "        if bias:\n",
    "            intercepts[i] = rng.random((w_rows,))\n",
    "\n",
    "    costs = np.zeros(epochs)\n",
    "    \n",
    "    # Gradient Descent\n",
    "    for epoch in range(epochs):\n",
    "        # FORWARD PROPAGATION\n",
    "        # hidden layer 1 implementation, relu activation   \n",
    "        h1a = np.einsum('hi,Bi -> Bh', wghts[0], x)\n",
    "        if bias:\n",
    "            h1a = h1a + intercepts[0]\n",
    "        h1 = relu(h1a)\n",
    "        # hidden layer 2 implementation, softmax activation\n",
    "        h2a = np.einsum('ho,Bo -> Bh', wghts[1], h1) \n",
    "        if bias:\n",
    "            h2a = h2a + intercepts[1]\n",
    "        hyp = softmax(h2a, _axis=1)\n",
    "\n",
    "        current_epoch_cost = -np.einsum('Bi,Bi', y, np.log(hyp))/batch_size\n",
    "        costs[epoch] = current_epoch_cost\n",
    "        # BACKWARD PROPAGATION\n",
    "        # layer 2\n",
    "        dJ_dH2a = hyp - y\n",
    "        dJ_dW1 = np.einsum('Bi,Bj -> ij',dJ_dH2a, h1)/batch_size\n",
    "        # print(dJ_dW1[4:5,:])\n",
    "        # layer 1\n",
    "        dJ_dH1 = np.einsum('Bi,ij -> Bj', dJ_dH2a, wghts[1])\n",
    "        dJ_dH1a = dJ_dH1*relu_prime(h1a)\n",
    "        dJ_dW0 = np.einsum('Bi,Bj -> ij',dJ_dH1a, x)/batch_size\n",
    "\n",
    "        if bias:\n",
    "            dJ_dB1 = np.einsum(\"Bi -> i\", dJ_dH2a)/batch_size\n",
    "            dJ_dB0 = np.einsum(\"Bi -> i\",dJ_dH1a)/batch_size\n",
    "\n",
    "        # WEIGHTS ADJUSTMENT\n",
    "        wghts[1] = wghts[1] - lr*dJ_dW1\n",
    "        wghts[0] = wghts[0] - lr*dJ_dW0\n",
    "        if bias:\n",
    "            intercepts[1] = intercepts[1] - lr*dJ_dB1\n",
    "            intercepts[0] = intercepts[0] - lr*dJ_dB0\n",
    "        \n",
    "    if bias:\n",
    "        return (costs, wghts, intercepts)\n",
    "    else:\n",
    "        return (costs, wghts)"
   ]
  },
  {
   "cell_type": "code",
   "execution_count": 4,
   "id": "7667c677",
   "metadata": {},
   "outputs": [],
   "source": [
    "iris = load_iris()\n",
    "x = iris.data\n",
    "y = iris.target\n",
    "# Normalize\n",
    "x_norm = normalize(x)\n",
    "x_train, x_test, y_train, y_test = train_test_split(x_norm, y, test_size=0.33, shuffle=True, random_state=42)\n",
    "\n",
    "# BINARIZE\n",
    "y_train = binarize(y_train)\n",
    "y_test = binarize(y_test)"
   ]
  },
  {
   "cell_type": "code",
   "execution_count": 5,
   "id": "38cf20ae",
   "metadata": {},
   "outputs": [],
   "source": [
    "unit_per_layer_counts = [10,3]\n",
    "costs, fw, fb = murals_batch(unit_per_layer_counts, x_train, y_train, lr=0.01, epochs=19000, bias=True)"
   ]
  },
  {
   "cell_type": "code",
   "execution_count": 6,
   "id": "248777b4",
   "metadata": {},
   "outputs": [
    {
     "data": {
      "text/plain": [
       "Text(0.5, 1.0, 'Change in Categorical CrossEntropy Loss with Epochs')"
      ]
     },
     "execution_count": 6,
     "metadata": {},
     "output_type": "execute_result"
    },
    {
     "data": {
      "image/png": "[encoded data removed]",
      "text/plain": [
       "<Figure size 432x288 with 1 Axes>"
      ]
     },
     "metadata": {
      "needs_background": "light"
     },
     "output_type": "display_data"
    }
   ],
   "source": [
    "plt.plot(costs)\n",
    "plt.xlabel('Epochs')\n",
    "plt.ylabel('CategoricalCrossEntropyLoss')\n",
    "plt.title('Change in Categorical CrossEntropy Loss with Epochs')"
   ]
  },
  {
   "cell_type": "code",
   "execution_count": null,
   "id": "c52bcb7b",
   "metadata": {},
   "outputs": [],
   "source": [
    "2"
   ]
  }
 ],
 "metadata": {
  "kernelspec": {
   "display_name": "Python 3 (ipykernel)",
   "language": "python",
   "name": "python3"
  },
  "language_info": {
   "codemirror_mode": {
    "name": "ipython",
    "version": 3
   },
   "file_extension": ".py",
   "mimetype": "text/x-python",
   "name": "python",
   "nbconvert_exporter": "python",
   "pygments_lexer": "ipython3",
   "version": "3.9.12"
  }
 },
 "nbformat": 4,
 "nbformat_minor": 5
}
