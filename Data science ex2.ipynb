{
 "cells": [
  {
   "cell_type": "code",
   "execution_count": 21,
   "id": "fa37db08",
   "metadata": {},
   "outputs": [
    {
     "data": {
      "text/html": [
       "<div>\n",
       "<style scoped>\n",
       "    .dataframe tbody tr th:only-of-type {\n",
       "        vertical-align: middle;\n",
       "    }\n",
       "\n",
       "    .dataframe tbody tr th {\n",
       "        vertical-align: top;\n",
       "    }\n",
       "\n",
       "    .dataframe thead th {\n",
       "        text-align: right;\n",
       "    }\n",
       "</style>\n",
       "<table border=\"1\" class=\"dataframe\">\n",
       "  <thead>\n",
       "    <tr style=\"text-align: right;\">\n",
       "      <th></th>\n",
       "      <th>Names</th>\n",
       "      <th>Department</th>\n",
       "      <th>Location</th>\n",
       "      <th>Access code</th>\n",
       "      <th>Recovery code</th>\n",
       "    </tr>\n",
       "  </thead>\n",
       "  <tbody>\n",
       "    <tr>\n",
       "      <th>9012</th>\n",
       "      <td>RachelBooker</td>\n",
       "      <td>Sales</td>\n",
       "      <td>Manchester</td>\n",
       "      <td>12se74</td>\n",
       "      <td>rb9012</td>\n",
       "    </tr>\n",
       "    <tr>\n",
       "      <th>2070</th>\n",
       "      <td>LauraGrey</td>\n",
       "      <td>Depot</td>\n",
       "      <td>London</td>\n",
       "      <td>04ap67</td>\n",
       "      <td>lg2070</td>\n",
       "    </tr>\n",
       "    <tr>\n",
       "      <th>4081</th>\n",
       "      <td>CraigJohnson</td>\n",
       "      <td>Depot</td>\n",
       "      <td>London</td>\n",
       "      <td>30no86</td>\n",
       "      <td>cj4081</td>\n",
       "    </tr>\n",
       "    <tr>\n",
       "      <th>9346</th>\n",
       "      <td>MaryJenkins</td>\n",
       "      <td>Engineering</td>\n",
       "      <td>Manchester</td>\n",
       "      <td>14ju73</td>\n",
       "      <td>mj9346</td>\n",
       "    </tr>\n",
       "    <tr>\n",
       "      <th>5079</th>\n",
       "      <td>JamieSmith</td>\n",
       "      <td>Engineering</td>\n",
       "      <td>Manchester</td>\n",
       "      <td>09ja61</td>\n",
       "      <td>js5079</td>\n",
       "    </tr>\n",
       "  </tbody>\n",
       "</table>\n",
       "</div>"
      ],
      "text/plain": [
       "             Names   Department    Location Access code Recovery code\n",
       "9012  RachelBooker        Sales  Manchester      12se74        rb9012\n",
       "2070     LauraGrey        Depot      London      04ap67        lg2070\n",
       "4081  CraigJohnson        Depot      London      30no86        cj4081\n",
       "9346   MaryJenkins  Engineering  Manchester      14ju73        mj9346\n",
       "5079    JamieSmith  Engineering  Manchester      09ja61        js5079"
      ]
     },
     "execution_count": 21,
     "metadata": {},
     "output_type": "execute_result"
    }
   ],
   "source": [
    "import pandas \n",
    "dt= pandas.read_csv('data_ex2.csv')\n",
    "dt['Names']=dt['First name']+dt['Last name']\n",
    "dt.drop(columns = ['First name', 'Last name'],inplace = True)\n",
    "dt= dt[['Names','Identifier','Department','Location','Access code','Recovery code']]\n",
    "data={}\n",
    "for cols in ['Names','Department','Location','Access code','Recovery code']:\n",
    "        data[cols]=dt[cols].tolist()\n",
    "data_new= pandas.DataFrame(data ,index = dt['Identifier'].tolist())\n",
    "data_new\n",
    "\n"
   ]
  }
 ],
 "metadata": {
  "kernelspec": {
   "display_name": "Python 3 (ipykernel)",
   "language": "python",
   "name": "python3"
  },
  "language_info": {
   "codemirror_mode": {
    "name": "ipython",
    "version": 3
   },
   "file_extension": ".py",
   "mimetype": "text/x-python",
   "name": "python",
   "nbconvert_exporter": "python",
   "pygments_lexer": "ipython3",
   "version": "3.9.12"
  }
 },
 "nbformat": 4,
 "nbformat_minor": 5
}
