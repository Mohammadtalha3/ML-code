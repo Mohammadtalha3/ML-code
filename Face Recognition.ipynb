{
 "cells": [
  {
   "cell_type": "code",
   "execution_count": 2,
   "id": "8fe7d028",
   "metadata": {},
   "outputs": [],
   "source": [
    "# import cv2\n",
    "# facerecog= cv2.CascadeClassifier('face_recog_data.xml')\n"
   ]
  },
  {
   "cell_type": "code",
   "execution_count": 11,
   "id": "14056c9d",
   "metadata": {},
   "outputs": [],
   "source": [
    "# img=cv2.imread('peoples.jpg')\n",
    "# img_x= cv2.cvtColor(img,cv2.COLOR_BGR2GRAY)\n"
   ]
  },
  {
   "cell_type": "code",
   "execution_count": 14,
   "id": "ec437424",
   "metadata": {},
   "outputs": [],
   "source": [
    "# cor=facerecog.detectMultiScale(img_x,1.3,5)"
   ]
  },
  {
   "cell_type": "code",
   "execution_count": 17,
   "id": "fa1c6ee9",
   "metadata": {},
   "outputs": [],
   "source": [
    "for(x,y,w,h) in cor:\n",
    "    img=cv2.rectangle(img,(x,y),(x+w,y+h),(255,0,0),3)"
   ]
  },
  {
   "cell_type": "code",
   "execution_count": 21,
   "id": "fa00671e",
   "metadata": {},
   "outputs": [
    {
     "data": {
      "text/plain": [
       "-1"
      ]
     },
     "execution_count": 21,
     "metadata": {},
     "output_type": "execute_result"
    }
   ],
   "source": [
    "# cv2.imshow('Detection', img)\n",
    "# cv2.waitKey()"
   ]
  },
  {
   "cell_type": "code",
   "execution_count": 2,
   "id": "b5446211",
   "metadata": {},
   "outputs": [],
   "source": [
    "def face_detect(img_dir):\n",
    "    img= cv2.imread(img_dir)\n",
    "    gimg=cv2.cvtColor(img, cv2.COLOR_BGR2GRAY)\n",
    "    facerecog= cv2.CascadeClassifier('face_recog_data.xml')\n",
    "    cor=facerecog.detectMultiScale(img,1.3,5)\n",
    "    try:\n",
    "        if cor.all():\n",
    "            for(x,y,w,h) in cor:\n",
    "                img=cv2.rectangle(img,(x,y),(x+w,y+h),(255,0,0),3)\n",
    "            return img\n",
    "    except AttributeError:\n",
    "            return None"
   ]
  },
  {
   "cell_type": "code",
   "execution_count": 3,
   "id": "12a101f2",
   "metadata": {},
   "outputs": [
    {
     "data": {
      "text/plain": [
       "-1"
      ]
     },
     "execution_count": 3,
     "metadata": {},
     "output_type": "execute_result"
    }
   ],
   "source": [
    "import cv2\n",
    "cv2.imshow('Detection',face_detect('peoples.jpg'))\n",
    "cv2.waitKey()"
   ]
  }
 ],
 "metadata": {
  "kernelspec": {
   "display_name": "Python 3 (ipykernel)",
   "language": "python",
   "name": "python3"
  },
  "language_info": {
   "codemirror_mode": {
    "name": "ipython",
    "version": 3
   },
   "file_extension": ".py",
   "mimetype": "text/x-python",
   "name": "python",
   "nbconvert_exporter": "python",
   "pygments_lexer": "ipython3",
   "version": "3.9.12"
  }
 },
 "nbformat": 4,
 "nbformat_minor": 5
}
