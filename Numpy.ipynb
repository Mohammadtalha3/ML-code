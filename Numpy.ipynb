{
 "cells": [
  {
   "cell_type": "code",
   "execution_count": 3,
   "id": "d175778b",
   "metadata": {},
   "outputs": [
    {
     "name": "stdout",
     "output_type": "stream",
     "text": [
      "[[[1 1]\n",
      "  [1 2]\n",
      "  [1 3]]\n",
      "\n",
      " [[2 1]\n",
      "  [2 2]\n",
      "  [2 3]]\n",
      "\n",
      " [[3 1]\n",
      "  [3 2]\n",
      "  [3 3]]]\n"
     ]
    }
   ],
   "source": [
    "\n",
    "import numpy as np\n",
    " \n",
    "data = [ ]\n",
    " \n",
    "for one in range(1, 4):\n",
    "\ttwod = [ ]\n",
    "\t\n",
    "\tfor two in range(1, 4):\n",
    "\t\ttwod.append([one, two])\n",
    "\t\n",
    "\tdata.append(twod)\n",
    " \n",
    "ar = np.array(data)\n",
    " \n",
    "print(ar)"
   ]
  },
  {
   "cell_type": "code",
   "execution_count": null,
   "id": "456b9b63",
   "metadata": {},
   "outputs": [],
   "source": [
    "import pandas as pan\n",
    "df = pan.DataFrame({'C1':[ 3, 6, 2],\n",
    "                       'C2':[ 0, 5, 1],\n",
    "                       'C3':[ 7, 9, 3]},\n",
    "                     index = [ 1, 2, 3])\n",
    "print(df.values[1, 2])"
   ]
  },
  {
   "cell_type": "code",
   "execution_count": 91,
   "id": "51cc438a",
   "metadata": {},
   "outputs": [
    {
     "data": {
      "text/html": [
       "<div>\n",
       "<style scoped>\n",
       "    .dataframe tbody tr th:only-of-type {\n",
       "        vertical-align: middle;\n",
       "    }\n",
       "\n",
       "    .dataframe tbody tr th {\n",
       "        vertical-align: top;\n",
       "    }\n",
       "\n",
       "    .dataframe thead th {\n",
       "        text-align: right;\n",
       "    }\n",
       "</style>\n",
       "<table border=\"1\" class=\"dataframe\">\n",
       "  <thead>\n",
       "    <tr style=\"text-align: right;\">\n",
       "      <th></th>\n",
       "      <th>Combo1</th>\n",
       "      <th>Combo2</th>\n",
       "      <th>Combo3</th>\n",
       "    </tr>\n",
       "  </thead>\n",
       "  <tbody>\n",
       "    <tr>\n",
       "      <th>1</th>\n",
       "      <td>[1,1]</td>\n",
       "      <td>[1,2]</td>\n",
       "      <td>[1,3]</td>\n",
       "    </tr>\n",
       "    <tr>\n",
       "      <th>2</th>\n",
       "      <td>[2,1]</td>\n",
       "      <td>[2,2]</td>\n",
       "      <td>[2,3]</td>\n",
       "    </tr>\n",
       "    <tr>\n",
       "      <th>3</th>\n",
       "      <td>[3,1]</td>\n",
       "      <td>[3,2]</td>\n",
       "      <td>[3,3]</td>\n",
       "    </tr>\n",
       "  </tbody>\n",
       "</table>\n",
       "</div>"
      ],
      "text/plain": [
       "  Combo1 Combo2 Combo3\n",
       "1  [1,1]  [1,2]  [1,3]\n",
       "2  [2,1]  [2,2]  [2,3]\n",
       "3  [3,1]  [3,2]  [3,3]"
      ]
     },
     "execution_count": 91,
     "metadata": {},
     "output_type": "execute_result"
    }
   ],
   "source": [
    "import numpy as np\n",
    "import pandas as pd\n",
    "ar = np.array([['[1,1]','[1,2]','[1,3]'],\n",
    "                ['[2,1]','[2,2]','[2,3]'],\n",
    "                ['[3,1]','[3,2]','[3,3]']])\n",
    "df = pd.DataFrame(data = ar, columns=['Combo1','Combo2','Combo3'], index=[1,2,3])\n",
    "\n",
    "\n",
    "\n",
    "print(df)"
   ]
  }
 ],
 "metadata": {
  "kernelspec": {
   "display_name": "Python 3 (ipykernel)",
   "language": "python",
   "name": "python3"
  },
  "language_info": {
   "codemirror_mode": {
    "name": "ipython",
    "version": 3
   },
   "file_extension": ".py",
   "mimetype": "text/x-python",
   "name": "python",
   "nbconvert_exporter": "python",
   "pygments_lexer": "ipython3",
   "version": "3.9.12"
  }
 },
 "nbformat": 4,
 "nbformat_minor": 5
}
