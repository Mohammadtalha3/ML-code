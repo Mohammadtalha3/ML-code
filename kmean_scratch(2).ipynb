{
 "cells": [
  {
   "cell_type": "code",
   "execution_count": 39,
   "metadata": {
    "pycharm": {
     "name": "#%%\n"
    }
   },
   "outputs": [
    {
     "name": "stdout",
     "output_type": "stream",
     "text": [
      "array of testing feature matrix: shape (10000, 784)\n",
      "array of testing label matrix: shape (10000,)\n"
     ]
    }
   ],
   "source": [
    "import numpy as np\n",
    "test = np.loadtxt(\"test.txt\", delimiter=',')\n",
    "test_features = test[:, 1:]\n",
    "test_labels = test[:, 0]\n",
    "print('array of testing feature matrix: shape ' + str(np.shape(test_features)))\n",
    "print('array of testing label matrix: shape ' + str(np.shape(test_labels)))"
   ]
  },
  {
   "cell_type": "code",
   "execution_count": 40,
   "metadata": {
    "pycharm": {
     "name": "#%%\n"
    }
   },
   "outputs": [
    {
     "data": {
      "text/plain": [
       "7840000"
      ]
     },
     "execution_count": 40,
     "metadata": {},
     "output_type": "execute_result"
    }
   ],
   "source": [
    "test_features.size"
   ]
  },
  {
   "cell_type": "code",
   "execution_count": 41,
   "metadata": {
    "pycharm": {
     "name": "#%%\n"
    }
   },
   "outputs": [
    {
     "data": {
      "text/plain": [
       "(10000, 784)"
      ]
     },
     "execution_count": 41,
     "metadata": {},
     "output_type": "execute_result"
    }
   ],
   "source": [
    "test_features.shape"
   ]
  },
  {
   "cell_type": "code",
   "execution_count": 42,
   "metadata": {
    "pycharm": {
     "name": "#%%\n"
    }
   },
   "outputs": [
    {
     "data": {
      "text/plain": [
       "2"
      ]
     },
     "execution_count": 42,
     "metadata": {},
     "output_type": "execute_result"
    }
   ],
   "source": [
    "test_features.ndim"
   ]
  },
  {
   "cell_type": "code",
   "execution_count": 43,
   "metadata": {
    "pycharm": {
     "name": "#%%\n"
    }
   },
   "outputs": [],
   "source": [
    "#test_features.reshape((test_features,1))"
   ]
  },
  {
   "cell_type": "code",
   "execution_count": 44,
   "metadata": {
    "pycharm": {
     "name": "#%%\n"
    }
   },
   "outputs": [
    {
     "data": {
      "text/plain": [
       "(7840000,)"
      ]
     },
     "execution_count": 44,
     "metadata": {},
     "output_type": "execute_result"
    }
   ],
   "source": [
    "flattened_features = test_features.flatten()\n",
    "flattened_features\n",
    "rl = flattened_features.ravel()\n",
    "rl.shape"
   ]
  },
  {
   "cell_type": "code",
   "execution_count": 45,
   "metadata": {
    "pycharm": {
     "name": "#%%\n"
    }
   },
   "outputs": [
    {
     "data": {
      "text/plain": [
       "(7840000,)"
      ]
     },
     "execution_count": 45,
     "metadata": {},
     "output_type": "execute_result"
    }
   ],
   "source": [
    "flattened_features.shape"
   ]
  },
  {
   "cell_type": "code",
   "execution_count": 46,
   "metadata": {
    "pycharm": {
     "name": "#%%\n"
    }
   },
   "outputs": [
    {
     "data": {
      "text/plain": [
       "1"
      ]
     },
     "execution_count": 46,
     "metadata": {},
     "output_type": "execute_result"
    }
   ],
   "source": [
    "flattened_features.ndim"
   ]
  },
  {
   "cell_type": "code",
   "execution_count": 47,
   "metadata": {
    "pycharm": {
     "name": "#%%\n"
    }
   },
   "outputs": [
    {
     "data": {
      "text/plain": [
       "numpy.ndarray"
      ]
     },
     "execution_count": 47,
     "metadata": {},
     "output_type": "execute_result"
    }
   ],
   "source": [
    "type(flattened_features)"
   ]
  },
  {
   "cell_type": "code",
   "execution_count": 48,
   "metadata": {
    "pycharm": {
     "name": "#%%\n"
    }
   },
   "outputs": [
    {
     "data": {
      "text/plain": [
       "dtype('float64')"
      ]
     },
     "execution_count": 48,
     "metadata": {},
     "output_type": "execute_result"
    }
   ],
   "source": [
    "\n",
    "flattened_features.dtype"
   ]
  },
  {
   "cell_type": "code",
   "execution_count": 49,
   "metadata": {
    "pycharm": {
     "name": "#%%\n"
    }
   },
   "outputs": [
    {
     "ename": "NameError",
     "evalue": "name 'y_pred' is not defined",
     "output_type": "error",
     "traceback": [
      "\u001b[1;31m---------------------------------------------------------------------------\u001b[0m",
      "\u001b[1;31mNameError\u001b[0m                                 Traceback (most recent call last)",
      "Input \u001b[1;32mIn [49]\u001b[0m, in \u001b[0;36m<cell line: 79>\u001b[1;34m()\u001b[0m\n\u001b[0;32m     83\u001b[0m X \u001b[38;5;241m=\u001b[39m test \u001b[38;5;66;03m# create dataset using make_blobs from sklearn datasets\u001b[39;00m\n\u001b[0;32m     84\u001b[0m Kmeans \u001b[38;5;241m=\u001b[39m KMeansClustering(X, num_clusters)\n\u001b[1;32m---> 85\u001b[0m y_pred \u001b[38;5;241m=\u001b[39m\u001b[43mKmeans\u001b[49m\u001b[38;5;241;43m.\u001b[39;49m\u001b[43mfit\u001b[49m\u001b[43m(\u001b[49m\u001b[43mX\u001b[49m\u001b[43m)\u001b[49m\n",
      "Input \u001b[1;32mIn [49]\u001b[0m, in \u001b[0;36mKMeansClustering.fit\u001b[1;34m(self, X)\u001b[0m\n\u001b[0;32m     70\u001b[0m y_pred \u001b[38;5;241m=\u001b[39m \u001b[38;5;28mself\u001b[39m\u001b[38;5;241m.\u001b[39mpredict_cluster(clusters, X) \u001b[38;5;66;03m# predict function\u001b[39;00m\n\u001b[0;32m     71\u001b[0m \u001b[38;5;28;01mif\u001b[39;00m \u001b[38;5;28mself\u001b[39m\u001b[38;5;241m.\u001b[39mplot_figure: \u001b[38;5;66;03m# if true\u001b[39;00m\n\u001b[1;32m---> 72\u001b[0m     \u001b[38;5;28;43mself\u001b[39;49m\u001b[38;5;241;43m.\u001b[39;49m\u001b[43mplot_fig\u001b[49m\u001b[43m(\u001b[49m\u001b[43mX\u001b[49m\u001b[43m,\u001b[49m\u001b[43m \u001b[49m\u001b[43my_pred\u001b[49m\u001b[43m)\u001b[49m \u001b[38;5;66;03m# plot function\u001b[39;00m\n\u001b[0;32m     73\u001b[0m \u001b[38;5;28mprint\u001b[39m(\u001b[38;5;124m\"\u001b[39m\u001b[38;5;124mMean Squared Error\u001b[39m\u001b[38;5;124m\"\u001b[39m,mean_squared_error(test_labels, y_pred)\u001b[38;5;241m.\u001b[39msum())\n\u001b[0;32m     74\u001b[0m \u001b[38;5;66;03m#mse2 = np.power(test_labels,y_pred,2).mean()\u001b[39;00m\n\u001b[0;32m     75\u001b[0m \u001b[38;5;66;03m#mse= (np.mean(X[:,0],y_pred))**2\u001b[39;00m\n\u001b[0;32m     76\u001b[0m \u001b[38;5;66;03m#print(\"mean Squared error manually:\",mse)\u001b[39;00m\n",
      "Input \u001b[1;32mIn [49]\u001b[0m, in \u001b[0;36mKMeansClustering.plot_fig\u001b[1;34m(self, X, y)\u001b[0m\n\u001b[0;32m     49\u001b[0m \u001b[38;5;28;01mdef\u001b[39;00m \u001b[38;5;21mplot_fig\u001b[39m(\u001b[38;5;28mself\u001b[39m, X, y):\n\u001b[1;32m---> 50\u001b[0m     fig \u001b[38;5;241m=\u001b[39m px\u001b[38;5;241m.\u001b[39mscatter(X[:, \u001b[38;5;241m0\u001b[39m],\u001b[43my_pred\u001b[49m , color\u001b[38;5;241m=\u001b[39my)\n\u001b[0;32m     51\u001b[0m     fig\u001b[38;5;241m.\u001b[39mshow()\n",
      "\u001b[1;31mNameError\u001b[0m: name 'y_pred' is not defined"
     ]
    }
   ],
   "source": [
    "import plotly.express as px\n",
    "import matplotlib.pyplot as plt\n",
    "from sklearn.metrics import mean_squared_error\n",
    "\n",
    "class KMeansClustering:\n",
    "    def __init__(self, X, num_clusters):\n",
    "        self.K = num_clusters # cluster number\n",
    "        self.max_iterations = 100 # max iteration. don't want to run inf time\n",
    "        self.num_examples, self.num_features = X.shape # num of examples, num of features\n",
    "        self.plot_figure = True # plot figure\n",
    "\n",
    "    # randomly initialize centroids\n",
    "    def initialize_random_centroids(self, X):\n",
    "        centroids = np.zeros((self.K, self.num_features)) # row , column full with zero\n",
    "        for k in range(self.K): # iterations of\n",
    "            centroid = X[np.random.choice(range(self.num_examples))] # random centroids\n",
    "            centroids[k] = centroid\n",
    "        return centroids # return random centroids\n",
    "\n",
    "    # create cluster Function\n",
    "    def create_cluster(self, X, centroids):\n",
    "        clusters = [[] for _ in range(self.K)]\n",
    "        for point_idx, point in enumerate(X):\n",
    "            closest_centroid = np.argmin(\n",
    "                np.sqrt(np.sum((point-centroids)**2, axis=1))\n",
    "            ) # closest centroid using eucledian distance equation(calculate distance of every point from centroid)\n",
    "            clusters[closest_centroid].append(point_idx)\n",
    "        #print(\"cluster line 27:\",clusters)\n",
    "        return clusters\n",
    "\n",
    "    # new centroids\n",
    "    def calculate_new_centroids(self, cluster, X):\n",
    "        centroids = np.zeros((self.K, self.num_features)) # row , column full with zero\n",
    "        for idx, cluster in enumerate(cluster):\n",
    "            new_centroid = np.mean(X[cluster], axis=0) # find the value for new centroids\n",
    "            centroids[idx] = new_centroid\n",
    "            #print(centroids[idx])\n",
    "        return centroids\n",
    "\n",
    "    # prediction\n",
    "    def predict_cluster(self, clusters, X):\n",
    "        y_pred = np.zeros((self.num_examples))# row1 fillup with zero\n",
    "        for cluster_idx, cluster in enumerate(clusters):\n",
    "            for sample_idx in cluster:\n",
    "                y_pred[sample_idx] = cluster_idx\n",
    "        return y_pred\n",
    "\n",
    "    # plotinng scatter plot\n",
    "    def plot_fig(self, X, y):\n",
    "        fig = px.scatter(X[:, 0],y_pred , color=y)\n",
    "        fig.show() # visualize\n",
    "\n",
    "    # fit data\n",
    "    def fit(self, X):\n",
    "        centroids = self.initialize_random_centroids(X) # initialize random centroids\n",
    "        for _ in range(self.max_iterations):\n",
    "            clusters = self.create_cluster(X, centroids) # create cluster\n",
    "            previous_centroids = centroids\n",
    "            centroids = self.calculate_new_centroids(clusters, X) # calculate new centroids\n",
    "            #print(\"centroids line 59\",centroids)\n",
    "            diff = centroids - previous_centroids # calculate difference\n",
    "            #print(\"centroids difference:\",diff)\n",
    "\n",
    "\n",
    "\n",
    "\n",
    "\n",
    "            if not diff.any():\n",
    "                break\n",
    "        y_pred = self.predict_cluster(clusters, X) # predict function\n",
    "        if self.plot_figure: # if true\n",
    "            self.plot_fig(X, y_pred) # plot function\n",
    "        print(\"Mean Squared Error\",mean_squared_error(test_labels, y_pred).sum())\n",
    "        #mse2 = np.power(test_labels,y_pred,2).mean()\n",
    "        #mse= (np.mean(X[:,0],y_pred))**2\n",
    "        #print(\"mean Squared error manually:\",mse)\n",
    "        return y_pred\n",
    "\n",
    "if __name__ == \"__main__\":\n",
    "\n",
    "    np.random.seed(10)\n",
    "    num_clusters = 10 # num of cluster\n",
    "    X = test # create dataset using make_blobs from sklearn datasets\n",
    "    Kmeans = KMeansClustering(X, num_clusters)\n",
    "    y_pred =Kmeans.fit(X)\n",
    "    #print(\"prediction\",y_pred.astype(int))\n",
    "\n",
    "    \n"
   ]
  },
  {
   "cell_type": "code",
   "execution_count": null,
   "metadata": {
    "pycharm": {
     "name": "#%%\n"
    }
   },
   "outputs": [],
   "source": [
    "print(\"y_prediction is:\",y_pred)"
   ]
  },
  {
   "cell_type": "code",
   "execution_count": null,
   "metadata": {
    "pycharm": {
     "name": "#%%\n"
    }
   },
   "outputs": [],
   "source": [
    "# importing dependencies\n",
    "import numpy as np\n",
    "import pandas as pd\n",
    "import matplotlib.pyplot as plt\n",
    "import sys\n",
    "\n",
    "# creating data\n",
    "\n",
    "\n",
    "data = np.vstack((X[:,0],y_pred))\n",
    "np.random.shuffle(data)\n",
    "print(\"Data is:\",data)\n",
    "\n",
    "# function to plot the selected centroids\n",
    "def plot(data, centroids):\n",
    "    plt.scatter(data[:, 0], data[:, 1], marker = '.',\n",
    "                color = 'gray', label = 'data points')\n",
    "    plt.scatter(centroids[:-1, 0], centroids[:-1, 1],\n",
    "                color = 'black', label = 'previously selected centroids')\n",
    "    plt.scatter(centroids[-1, 0], centroids[-1, 1],\n",
    "                color = 'red', label = 'next centroid')\n",
    "    plt.title('Select % d th centroid'%(centroids.shape[0]))\n",
    "\n",
    "    plt.legend()\n",
    "    plt.xlim(-5, 12)\n",
    "    plt.ylim(-10, 15)\n",
    "    plt.show()\n",
    "\n",
    "# function to compute euclidean distance\n",
    "def distance(p1, p2):\n",
    "    return np.sum((p1 - p2)**2)\n",
    "\n",
    "# initialization algorithm\n",
    "def initialize(data, k):\n",
    "    '''\n",
    "    initialized the centroids for K-means++\n",
    "    inputs:\n",
    "        data - numpy array of data points having shape (200, 2)\n",
    "        k - number of clusters\n",
    "    '''\n",
    "    ## initialize the centroids list and add\n",
    "    ## a randomly selected data point to the list\n",
    "    centroids = []\n",
    "    centroids.append(data[np.random.randint(\n",
    "            data.shape[0]), :])\n",
    "    plot(data, np.array(centroids))\n",
    "\n",
    "    ## compute remaining k - 1 centroids\n",
    "    for c_id in range(k - 1):\n",
    "\n",
    "        ## initialize a list to store distances of data\n",
    "        ## points from nearest centroid\n",
    "        dist = []\n",
    "        for i in range(data.shape[0]):\n",
    "            point = data[i, :]\n",
    "            d = sys.maxsize\n",
    "\n",
    "            ## compute distance of 'point' from each of the previously\n",
    "            ## selected centroid and store the minimum distance\n",
    "            for j in range(len(centroids)):\n",
    "                temp_dist = distance(point, centroids[j])\n",
    "                d = min(d, temp_dist)\n",
    "            dist.append(d)\n",
    "\n",
    "        ## select data point with maximum distance as our next centroid\n",
    "        dist = np.array(dist)\n",
    "        next_centroid = data[np.argmax(dist), :]\n",
    "        centroids.append(next_centroid)\n",
    "        dist = []\n",
    "        plot(data, np.array(centroids))\n",
    "    return centroids\n",
    "\n",
    "# call the initialize function to get the centroids\n",
    "centroids = initialize(data, k = 10)\n",
    "print(\"Centroids are:\",centroids)"
   ]
  },
  {
   "cell_type": "code",
   "execution_count": null,
   "metadata": {
    "pycharm": {
     "name": "#%%\n"
    }
   },
   "outputs": [],
   "source": []
  }
 ],
 "metadata": {
  "kernelspec": {
   "display_name": "Python 3 (ipykernel)",
   "language": "python",
   "name": "python3"
  },
  "language_info": {
   "codemirror_mode": {
    "name": "ipython",
    "version": 3
   },
   "file_extension": ".py",
   "mimetype": "text/x-python",
   "name": "python",
   "nbconvert_exporter": "python",
   "pygments_lexer": "ipython3",
   "version": "3.9.12"
  }
 },
 "nbformat": 4,
 "nbformat_minor": 1
}
