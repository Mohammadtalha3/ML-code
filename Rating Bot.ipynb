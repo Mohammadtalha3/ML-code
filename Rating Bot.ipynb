{
 "cells": [
  {
   "cell_type": "code",
   "execution_count": 14,
   "id": "061df6d5",
   "metadata": {},
   "outputs": [],
   "source": [
    "import pandas\n",
    "from sklearn.feature_extraction.text import CountVectorizer,TfidfTransformer\n",
    "dt=pandas.read_csv('reviews.csv')\n"
   ]
  },
  {
   "cell_type": "code",
   "execution_count": 19,
   "id": "c78b42d6",
   "metadata": {},
   "outputs": [],
   "source": [
    "x=dt['Reviews']\n",
    "#Feature extraction\n",
    "vec= CountVectorizer()\n",
    "vec.fit(x)\n",
    "vec_x= vec.transform(x)\n"
   ]
  },
  {
   "cell_type": "code",
   "execution_count": 37,
   "id": "e5d8b93f",
   "metadata": {},
   "outputs": [],
   "source": [
    "#id idf extraction\n",
    "\n",
    "tfidf=TfidfTransformer()\n",
    "tfidf.fit(vec_x)\n",
    "rev=tfidf.transform(vec_x)"
   ]
  },
  {
   "cell_type": "code",
   "execution_count": 38,
   "id": "acf550f8",
   "metadata": {},
   "outputs": [],
   "source": [
    "y=dt['Rating'].tolist()\n"
   ]
  },
  {
   "cell_type": "code",
   "execution_count": 39,
   "id": "c6820f71",
   "metadata": {},
   "outputs": [
    {
     "data": {
      "text/plain": [
       "DecisionTreeClassifier()"
      ]
     },
     "execution_count": 39,
     "metadata": {},
     "output_type": "execute_result"
    }
   ],
   "source": [
    "from sklearn.tree import DecisionTreeClassifier\n",
    "model=DecisionTreeClassifier()\n",
    "model.fit(rev,y)\n"
   ]
  },
  {
   "cell_type": "code",
   "execution_count": 58,
   "id": "87147bb0",
   "metadata": {},
   "outputs": [],
   "source": [
    "def rate(*comment):\n",
    "    f_ex= vec.transform(comment)\n",
    "    tf= tfidf.transform(f_ex)\n",
    "    pred= model.predict(tf)\n",
    "    for rev,rat in zip(comment,pred):\n",
    "        print(rev,':\\n' ,'rating: ',rat)\n",
    "        \n",
    "        "
   ]
  },
  {
   "cell_type": "code",
   "execution_count": 59,
   "id": "7d915a84",
   "metadata": {},
   "outputs": [
    {
     "name": "stdout",
     "output_type": "stream",
     "text": [
      "Not in good condition :\n",
      " rating:  Poor\n",
      "It is  satisfactory  :\n",
      " rating:  Good\n"
     ]
    }
   ],
   "source": [
    "rate('Not in good condition',\n",
    "     'It is  satisfactory ')"
   ]
  }
 ],
 "metadata": {
  "kernelspec": {
   "display_name": "Python 3 (ipykernel)",
   "language": "python",
   "name": "python3"
  },
  "language_info": {
   "codemirror_mode": {
    "name": "ipython",
    "version": 3
   },
   "file_extension": ".py",
   "mimetype": "text/x-python",
   "name": "python",
   "nbconvert_exporter": "python",
   "pygments_lexer": "ipython3",
   "version": "3.9.12"
  }
 },
 "nbformat": 4,
 "nbformat_minor": 5
}
