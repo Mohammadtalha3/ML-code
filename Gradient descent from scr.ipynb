{
 "cells": [
  {
   "cell_type": "code",
   "execution_count": 1,
   "id": "5dc9c43e",
   "metadata": {},
   "outputs": [],
   "source": [
    "import numpy as np"
   ]
  },
  {
   "cell_type": "code",
   "execution_count": 2,
   "id": "0405a1a1",
   "metadata": {},
   "outputs": [],
   "source": [
    "def log_loss(y_true,y_predict):\n",
    "    epsilon= 1e-15\n",
    "    new_pred=(max(i,epsilon) for i in y_predict)\n",
    "    new_pred=(min(i,1-epsilon) for i in new_pred)\n",
    "    new_pred= np.array(new_pred)\n",
    "    return -np.mean(y_true*np.log(new_pred)*(1-y_true)*np.log(1-new_pred))\n",
    "\n",
    "\n",
    "    "
   ]
  },
  {
   "cell_type": "code",
   "execution_count": 3,
   "id": "70f9a81a",
   "metadata": {},
   "outputs": [
    {
     "data": {
      "text/plain": [
       "array([0.99999386, 0.73105858, 0.5       ])"
      ]
     },
     "execution_count": 3,
     "metadata": {},
     "output_type": "execute_result"
    }
   ],
   "source": [
    "def sigmoid(x):\n",
    "    return 1/(1+np.exp(-x))\n",
    "sigmoid(np.array([12,1,0]))\n",
    "\n",
    "\n"
   ]
  },
  {
   "cell_type": "code",
   "execution_count": 4,
   "id": "edf776cd",
   "metadata": {},
   "outputs": [],
   "source": [
    "def gradient_desent(age, affordibility, y_true, epochs, ):\n",
    "    w1,w2= 1\n",
    "    bias=0\n",
    "    rate=0.5\n",
    "    n=len(age)\n",
    "    for i in range(epochs):\n",
    "        weigh_sum= w1*age+w2*affordibility+bias\n",
    "        y_predict= sigmoid(weigh_sum)\n",
    "        \n",
    "        loss=log_loss(y_true,y_predict)\n",
    "        \n",
    "        w1d=(1/n)*np.dot(np.transpose(age)*(y_predict-y_true))\n",
    "        w2d=(1/n)*np.dot(np.transpose(affordibilty)*(y_predict-y_true))\n",
    "        \n",
    "        bias_d= np.mean(y_predict-y_true)\n",
    "        \n",
    "        w1= w1-rate*w1d\n",
    "        w2=w2-rate*w2d\n",
    "        bias= bias-rate*bias_d\n",
    "        print(f'epochs{i},w1{w1},w2{w2},loss{loss},bias{bias}')\n",
    "    return w1, w2,bias\n",
    "        \n"
   ]
  },
  {
   "cell_type": "code",
   "execution_count": 7,
   "id": "6a28cbcc",
   "metadata": {},
   "outputs": [
    {
     "ename": "NameError",
     "evalue": "name 'gradient_descent' is not defined",
     "output_type": "error",
     "traceback": [
      "\u001b[1;31m---------------------------------------------------------------------------\u001b[0m",
      "\u001b[1;31mNameError\u001b[0m                                 Traceback (most recent call last)",
      "Input \u001b[1;32mIn [7]\u001b[0m, in \u001b[0;36m<cell line: 1>\u001b[1;34m()\u001b[0m\n\u001b[1;32m----> 1\u001b[0m \u001b[43mgradient_descent\u001b[49m()\n",
      "\u001b[1;31mNameError\u001b[0m: name 'gradient_descent' is not defined"
     ]
    }
   ],
   "source": []
  }
 ],
 "metadata": {
  "kernelspec": {
   "display_name": "Python 3 (ipykernel)",
   "language": "python",
   "name": "python3"
  },
  "language_info": {
   "codemirror_mode": {
    "name": "ipython",
    "version": 3
   },
   "file_extension": ".py",
   "mimetype": "text/x-python",
   "name": "python",
   "nbconvert_exporter": "python",
   "pygments_lexer": "ipython3",
   "version": "3.9.12"
  }
 },
 "nbformat": 4,
 "nbformat_minor": 5
}
